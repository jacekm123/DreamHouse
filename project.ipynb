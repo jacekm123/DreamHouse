{
 "cells": [
  {
   "cell_type": "markdown",
   "metadata": {},
   "source": [
    "# Nazwa projektu - Cena za wymarzony dom"
   ]
  },
  {
   "cell_type": "markdown",
   "metadata": {},
   "source": [
    "Aim of the project is to create such model which will be able to predict SalePrice of house \n",
    "for provided values of features. Features regard among others overall quality of the house, construction date\n",
    "size of garage, lot area and so on. All details about every feature (column) you can find in file: data_description.txt \n",
    "in the same path."
   ]
  },
  {
   "cell_type": "markdown",
   "metadata": {},
   "source": [
    "### Imports:"
   ]
  },
  {
   "cell_type": "code",
   "execution_count": 62,
   "metadata": {},
   "outputs": [],
   "source": [
    "#data manipulation\n",
    "import pandas as pd\n",
    "import numpy as np\n",
    "\n",
    "#data visualization\n",
    "import seaborn as sns\n",
    "import matplotlib.pyplot as plt\n",
    "\n",
    "# pipeline construction\n",
    "from sklearn.pipeline import Pipeline, FeatureUnion \n",
    "from sklearn.base import BaseEstimator, TransformerMixin\n",
    "from sklearn.compose import ColumnTransformer\n",
    "\n",
    "# data processing\n",
    "from sklearn.preprocessing import StandardScaler\n",
    "from sklearn.preprocessing import OneHotEncoder\n",
    "from sklearn.impute import SimpleImputer\n",
    "\n",
    "# feature selection\n",
    "from sklearn.feature_selection import VarianceThreshold\n",
    "\n",
    "# models training\n",
    "from sklearn import model_selection\n",
    "from sklearn.model_selection import train_test_split\n",
    "from sklearn.model_selection import GridSearchCV\n",
    "from sklearn.linear_model import LinearRegression\n",
    "from sklearn.linear_model import Lasso\n",
    "from sklearn.svm import SVR\n",
    "from sklearn.ensemble import GradientBoostingRegressor\n",
    "from sklearn.ensemble import RandomForestRegressor\n",
    "\n",
    "#models testing\n",
    "from sklearn import metrics"
   ]
  },
  {
   "cell_type": "markdown",
   "metadata": {},
   "source": [
    "### Analysing and preprocessing of data"
   ]
  },
  {
   "cell_type": "markdown",
   "metadata": {},
   "source": [
    "Read data from csv and display head of it"
   ]
  },
  {
   "cell_type": "code",
   "execution_count": 3,
   "metadata": {},
   "outputs": [
    {
     "data": {
      "text/html": [
       "<div>\n",
       "<style scoped>\n",
       "    .dataframe tbody tr th:only-of-type {\n",
       "        vertical-align: middle;\n",
       "    }\n",
       "\n",
       "    .dataframe tbody tr th {\n",
       "        vertical-align: top;\n",
       "    }\n",
       "\n",
       "    .dataframe thead th {\n",
       "        text-align: right;\n",
       "    }\n",
       "</style>\n",
       "<table border=\"1\" class=\"dataframe\">\n",
       "  <thead>\n",
       "    <tr style=\"text-align: right;\">\n",
       "      <th></th>\n",
       "      <th>Id</th>\n",
       "      <th>MSSubClass</th>\n",
       "      <th>MSZoning</th>\n",
       "      <th>LotFrontage</th>\n",
       "      <th>LotArea</th>\n",
       "      <th>Street</th>\n",
       "      <th>Alley</th>\n",
       "      <th>LotShape</th>\n",
       "      <th>LandContour</th>\n",
       "      <th>Utilities</th>\n",
       "      <th>...</th>\n",
       "      <th>PoolArea</th>\n",
       "      <th>PoolQC</th>\n",
       "      <th>Fence</th>\n",
       "      <th>MiscFeature</th>\n",
       "      <th>MiscVal</th>\n",
       "      <th>MoSold</th>\n",
       "      <th>YrSold</th>\n",
       "      <th>SaleType</th>\n",
       "      <th>SaleCondition</th>\n",
       "      <th>SalePrice</th>\n",
       "    </tr>\n",
       "  </thead>\n",
       "  <tbody>\n",
       "    <tr>\n",
       "      <th>0</th>\n",
       "      <td>1</td>\n",
       "      <td>60</td>\n",
       "      <td>RL</td>\n",
       "      <td>65.0</td>\n",
       "      <td>8450</td>\n",
       "      <td>Pave</td>\n",
       "      <td>NaN</td>\n",
       "      <td>Reg</td>\n",
       "      <td>Lvl</td>\n",
       "      <td>AllPub</td>\n",
       "      <td>...</td>\n",
       "      <td>0</td>\n",
       "      <td>NaN</td>\n",
       "      <td>NaN</td>\n",
       "      <td>NaN</td>\n",
       "      <td>0</td>\n",
       "      <td>2</td>\n",
       "      <td>2008</td>\n",
       "      <td>WD</td>\n",
       "      <td>Normal</td>\n",
       "      <td>208500</td>\n",
       "    </tr>\n",
       "    <tr>\n",
       "      <th>1</th>\n",
       "      <td>2</td>\n",
       "      <td>20</td>\n",
       "      <td>RL</td>\n",
       "      <td>80.0</td>\n",
       "      <td>9600</td>\n",
       "      <td>Pave</td>\n",
       "      <td>NaN</td>\n",
       "      <td>Reg</td>\n",
       "      <td>Lvl</td>\n",
       "      <td>AllPub</td>\n",
       "      <td>...</td>\n",
       "      <td>0</td>\n",
       "      <td>NaN</td>\n",
       "      <td>NaN</td>\n",
       "      <td>NaN</td>\n",
       "      <td>0</td>\n",
       "      <td>5</td>\n",
       "      <td>2007</td>\n",
       "      <td>WD</td>\n",
       "      <td>Normal</td>\n",
       "      <td>181500</td>\n",
       "    </tr>\n",
       "    <tr>\n",
       "      <th>2</th>\n",
       "      <td>3</td>\n",
       "      <td>60</td>\n",
       "      <td>RL</td>\n",
       "      <td>68.0</td>\n",
       "      <td>11250</td>\n",
       "      <td>Pave</td>\n",
       "      <td>NaN</td>\n",
       "      <td>IR1</td>\n",
       "      <td>Lvl</td>\n",
       "      <td>AllPub</td>\n",
       "      <td>...</td>\n",
       "      <td>0</td>\n",
       "      <td>NaN</td>\n",
       "      <td>NaN</td>\n",
       "      <td>NaN</td>\n",
       "      <td>0</td>\n",
       "      <td>9</td>\n",
       "      <td>2008</td>\n",
       "      <td>WD</td>\n",
       "      <td>Normal</td>\n",
       "      <td>223500</td>\n",
       "    </tr>\n",
       "    <tr>\n",
       "      <th>3</th>\n",
       "      <td>4</td>\n",
       "      <td>70</td>\n",
       "      <td>RL</td>\n",
       "      <td>60.0</td>\n",
       "      <td>9550</td>\n",
       "      <td>Pave</td>\n",
       "      <td>NaN</td>\n",
       "      <td>IR1</td>\n",
       "      <td>Lvl</td>\n",
       "      <td>AllPub</td>\n",
       "      <td>...</td>\n",
       "      <td>0</td>\n",
       "      <td>NaN</td>\n",
       "      <td>NaN</td>\n",
       "      <td>NaN</td>\n",
       "      <td>0</td>\n",
       "      <td>2</td>\n",
       "      <td>2006</td>\n",
       "      <td>WD</td>\n",
       "      <td>Abnorml</td>\n",
       "      <td>140000</td>\n",
       "    </tr>\n",
       "    <tr>\n",
       "      <th>4</th>\n",
       "      <td>5</td>\n",
       "      <td>60</td>\n",
       "      <td>RL</td>\n",
       "      <td>84.0</td>\n",
       "      <td>14260</td>\n",
       "      <td>Pave</td>\n",
       "      <td>NaN</td>\n",
       "      <td>IR1</td>\n",
       "      <td>Lvl</td>\n",
       "      <td>AllPub</td>\n",
       "      <td>...</td>\n",
       "      <td>0</td>\n",
       "      <td>NaN</td>\n",
       "      <td>NaN</td>\n",
       "      <td>NaN</td>\n",
       "      <td>0</td>\n",
       "      <td>12</td>\n",
       "      <td>2008</td>\n",
       "      <td>WD</td>\n",
       "      <td>Normal</td>\n",
       "      <td>250000</td>\n",
       "    </tr>\n",
       "  </tbody>\n",
       "</table>\n",
       "<p>5 rows × 81 columns</p>\n",
       "</div>"
      ],
      "text/plain": [
       "   Id  MSSubClass MSZoning  LotFrontage  LotArea Street Alley LotShape  \\\n",
       "0   1          60       RL         65.0     8450   Pave   NaN      Reg   \n",
       "1   2          20       RL         80.0     9600   Pave   NaN      Reg   \n",
       "2   3          60       RL         68.0    11250   Pave   NaN      IR1   \n",
       "3   4          70       RL         60.0     9550   Pave   NaN      IR1   \n",
       "4   5          60       RL         84.0    14260   Pave   NaN      IR1   \n",
       "\n",
       "  LandContour Utilities  ... PoolArea PoolQC Fence MiscFeature MiscVal MoSold  \\\n",
       "0         Lvl    AllPub  ...        0    NaN   NaN         NaN       0      2   \n",
       "1         Lvl    AllPub  ...        0    NaN   NaN         NaN       0      5   \n",
       "2         Lvl    AllPub  ...        0    NaN   NaN         NaN       0      9   \n",
       "3         Lvl    AllPub  ...        0    NaN   NaN         NaN       0      2   \n",
       "4         Lvl    AllPub  ...        0    NaN   NaN         NaN       0     12   \n",
       "\n",
       "  YrSold  SaleType  SaleCondition  SalePrice  \n",
       "0   2008        WD         Normal     208500  \n",
       "1   2007        WD         Normal     181500  \n",
       "2   2008        WD         Normal     223500  \n",
       "3   2006        WD        Abnorml     140000  \n",
       "4   2008        WD         Normal     250000  \n",
       "\n",
       "[5 rows x 81 columns]"
      ]
     },
     "execution_count": 3,
     "metadata": {},
     "output_type": "execute_result"
    }
   ],
   "source": [
    "df = pd.read_csv('data.csv')\n",
    "df.head()"
   ]
  },
  {
   "cell_type": "markdown",
   "metadata": {},
   "source": [
    "All details about every column you can find in file: data_description.txt in the same path. <br>\n",
    "Display shape of data to see amount of rows and columns"
   ]
  },
  {
   "cell_type": "code",
   "execution_count": 4,
   "metadata": {},
   "outputs": [
    {
     "data": {
      "text/plain": [
       "(1460, 81)"
      ]
     },
     "execution_count": 4,
     "metadata": {},
     "output_type": "execute_result"
    }
   ],
   "source": [
    "df.shape"
   ]
  },
  {
   "cell_type": "markdown",
   "metadata": {},
   "source": [
    "There are 1460 rows and 81 columns"
   ]
  },
  {
   "cell_type": "markdown",
   "metadata": {},
   "source": [
    "Display info about data"
   ]
  },
  {
   "cell_type": "code",
   "execution_count": 5,
   "metadata": {},
   "outputs": [
    {
     "name": "stdout",
     "output_type": "stream",
     "text": [
      "<class 'pandas.core.frame.DataFrame'>\n",
      "RangeIndex: 1460 entries, 0 to 1459\n",
      "Data columns (total 81 columns):\n",
      " #   Column         Non-Null Count  Dtype  \n",
      "---  ------         --------------  -----  \n",
      " 0   Id             1460 non-null   int64  \n",
      " 1   MSSubClass     1460 non-null   int64  \n",
      " 2   MSZoning       1460 non-null   object \n",
      " 3   LotFrontage    1201 non-null   float64\n",
      " 4   LotArea        1460 non-null   int64  \n",
      " 5   Street         1460 non-null   object \n",
      " 6   Alley          91 non-null     object \n",
      " 7   LotShape       1460 non-null   object \n",
      " 8   LandContour    1460 non-null   object \n",
      " 9   Utilities      1460 non-null   object \n",
      " 10  LotConfig      1460 non-null   object \n",
      " 11  LandSlope      1460 non-null   object \n",
      " 12  Neighborhood   1460 non-null   object \n",
      " 13  Condition1     1460 non-null   object \n",
      " 14  Condition2     1460 non-null   object \n",
      " 15  BldgType       1460 non-null   object \n",
      " 16  HouseStyle     1460 non-null   object \n",
      " 17  OverallQual    1460 non-null   int64  \n",
      " 18  OverallCond    1460 non-null   int64  \n",
      " 19  YearBuilt      1460 non-null   int64  \n",
      " 20  YearRemodAdd   1460 non-null   int64  \n",
      " 21  RoofStyle      1460 non-null   object \n",
      " 22  RoofMatl       1460 non-null   object \n",
      " 23  Exterior1st    1460 non-null   object \n",
      " 24  Exterior2nd    1460 non-null   object \n",
      " 25  MasVnrType     1452 non-null   object \n",
      " 26  MasVnrArea     1452 non-null   float64\n",
      " 27  ExterQual      1460 non-null   object \n",
      " 28  ExterCond      1460 non-null   object \n",
      " 29  Foundation     1460 non-null   object \n",
      " 30  BsmtQual       1423 non-null   object \n",
      " 31  BsmtCond       1423 non-null   object \n",
      " 32  BsmtExposure   1422 non-null   object \n",
      " 33  BsmtFinType1   1423 non-null   object \n",
      " 34  BsmtFinSF1     1460 non-null   int64  \n",
      " 35  BsmtFinType2   1422 non-null   object \n",
      " 36  BsmtFinSF2     1460 non-null   int64  \n",
      " 37  BsmtUnfSF      1460 non-null   int64  \n",
      " 38  TotalBsmtSF    1460 non-null   int64  \n",
      " 39  Heating        1460 non-null   object \n",
      " 40  HeatingQC      1460 non-null   object \n",
      " 41  CentralAir     1460 non-null   object \n",
      " 42  Electrical     1459 non-null   object \n",
      " 43  1stFlrSF       1460 non-null   int64  \n",
      " 44  2ndFlrSF       1460 non-null   int64  \n",
      " 45  LowQualFinSF   1460 non-null   int64  \n",
      " 46  GrLivArea      1460 non-null   int64  \n",
      " 47  BsmtFullBath   1460 non-null   int64  \n",
      " 48  BsmtHalfBath   1460 non-null   int64  \n",
      " 49  FullBath       1460 non-null   int64  \n",
      " 50  HalfBath       1460 non-null   int64  \n",
      " 51  BedroomAbvGr   1460 non-null   int64  \n",
      " 52  KitchenAbvGr   1460 non-null   int64  \n",
      " 53  KitchenQual    1460 non-null   object \n",
      " 54  TotRmsAbvGrd   1460 non-null   int64  \n",
      " 55  Functional     1460 non-null   object \n",
      " 56  Fireplaces     1460 non-null   int64  \n",
      " 57  FireplaceQu    770 non-null    object \n",
      " 58  GarageType     1379 non-null   object \n",
      " 59  GarageYrBlt    1379 non-null   float64\n",
      " 60  GarageFinish   1379 non-null   object \n",
      " 61  GarageCars     1460 non-null   int64  \n",
      " 62  GarageArea     1460 non-null   int64  \n",
      " 63  GarageQual     1379 non-null   object \n",
      " 64  GarageCond     1379 non-null   object \n",
      " 65  PavedDrive     1460 non-null   object \n",
      " 66  WoodDeckSF     1460 non-null   int64  \n",
      " 67  OpenPorchSF    1460 non-null   int64  \n",
      " 68  EnclosedPorch  1460 non-null   int64  \n",
      " 69  3SsnPorch      1460 non-null   int64  \n",
      " 70  ScreenPorch    1460 non-null   int64  \n",
      " 71  PoolArea       1460 non-null   int64  \n",
      " 72  PoolQC         7 non-null      object \n",
      " 73  Fence          281 non-null    object \n",
      " 74  MiscFeature    54 non-null     object \n",
      " 75  MiscVal        1460 non-null   int64  \n",
      " 76  MoSold         1460 non-null   int64  \n",
      " 77  YrSold         1460 non-null   int64  \n",
      " 78  SaleType       1460 non-null   object \n",
      " 79  SaleCondition  1460 non-null   object \n",
      " 80  SalePrice      1460 non-null   int64  \n",
      "dtypes: float64(3), int64(35), object(43)\n",
      "memory usage: 924.0+ KB\n"
     ]
    }
   ],
   "source": [
    "df.info()"
   ]
  },
  {
   "cell_type": "markdown",
   "metadata": {},
   "source": [
    "Consider which columns should be removed due to too many missing data. We can find such columns (Column Number; Column; Non-Null Count; Dtype): \n",
    "-  6;   Alley;          91 non-null;     object\n",
    "-  72;  PoolQC;         7 non-null;      object \n",
    "-  73;  Fence;          281 non-null;    object \n",
    "-  74;  MiscFeature;    54 non-null;     object"
   ]
  },
  {
   "cell_type": "markdown",
   "metadata": {},
   "source": [
    "Declare amount of rows:"
   ]
  },
  {
   "cell_type": "code",
   "execution_count": 6,
   "metadata": {},
   "outputs": [
    {
     "data": {
      "text/plain": [
       "1460"
      ]
     },
     "execution_count": 6,
     "metadata": {},
     "output_type": "execute_result"
    }
   ],
   "source": [
    "amount_of_rows = len(df.index)\n",
    "amount_of_rows"
   ]
  },
  {
   "cell_type": "markdown",
   "metadata": {},
   "source": [
    "Percent of missing values of Alley column:"
   ]
  },
  {
   "cell_type": "code",
   "execution_count": 7,
   "metadata": {},
   "outputs": [
    {
     "data": {
      "text/plain": [
       "93.76712328767123"
      ]
     },
     "execution_count": 7,
     "metadata": {},
     "output_type": "execute_result"
    }
   ],
   "source": [
    "df['Alley'].isna().sum()/amount_of_rows*100"
   ]
  },
  {
   "cell_type": "markdown",
   "metadata": {},
   "source": [
    "Percent of missing values of PoolQC column:"
   ]
  },
  {
   "cell_type": "code",
   "execution_count": 8,
   "metadata": {},
   "outputs": [
    {
     "data": {
      "text/plain": [
       "99.52054794520548"
      ]
     },
     "execution_count": 8,
     "metadata": {},
     "output_type": "execute_result"
    }
   ],
   "source": [
    "df['PoolQC'].isna().sum()/amount_of_rows*100"
   ]
  },
  {
   "cell_type": "markdown",
   "metadata": {},
   "source": [
    "Percent of missing values of Fence column:"
   ]
  },
  {
   "cell_type": "code",
   "execution_count": 9,
   "metadata": {},
   "outputs": [
    {
     "data": {
      "text/plain": [
       "80.75342465753424"
      ]
     },
     "execution_count": 9,
     "metadata": {},
     "output_type": "execute_result"
    }
   ],
   "source": [
    "df['Fence'].isna().sum()/amount_of_rows*100"
   ]
  },
  {
   "cell_type": "markdown",
   "metadata": {},
   "source": [
    "Percent of missing values of MiscFeature column:"
   ]
  },
  {
   "cell_type": "code",
   "execution_count": 10,
   "metadata": {},
   "outputs": [
    {
     "data": {
      "text/plain": [
       "96.30136986301369"
      ]
     },
     "execution_count": 10,
     "metadata": {},
     "output_type": "execute_result"
    }
   ],
   "source": [
    "df['MiscFeature'].isna().sum()/amount_of_rows*100"
   ]
  },
  {
   "cell_type": "markdown",
   "metadata": {},
   "source": [
    "Removing above columns due to their percent of missing values are more than 80%:"
   ]
  },
  {
   "cell_type": "code",
   "execution_count": 11,
   "metadata": {},
   "outputs": [
    {
     "data": {
      "text/plain": [
       "(1460, 77)"
      ]
     },
     "execution_count": 11,
     "metadata": {},
     "output_type": "execute_result"
    }
   ],
   "source": [
    "df = df.drop(['Alley','PoolQC','Fence','MiscFeature'], axis='columns')\n",
    "df.shape"
   ]
  },
  {
   "cell_type": "code",
   "execution_count": 12,
   "metadata": {},
   "outputs": [],
   "source": [
    "corr = df.corr()"
   ]
  },
  {
   "cell_type": "code",
   "execution_count": 13,
   "metadata": {
    "scrolled": false
   },
   "outputs": [
    {
     "data": {
      "text/plain": [
       "<AxesSubplot:>"
      ]
     },
     "execution_count": 13,
     "metadata": {},
     "output_type": "execute_result"
    },
    {
     "data": {
      "image/png": "[encoded data removed]",
      "text/plain": [
       "<Figure size 1080x1080 with 2 Axes>"
      ]
     },
     "metadata": {
      "needs_background": "light"
     },
     "output_type": "display_data"
    }
   ],
   "source": [
    "fig, ax = plt.subplots(figsize=(15,15))\n",
    "sns.heatmap(corr, square=True)"
   ]
  },
  {
   "cell_type": "markdown",
   "metadata": {},
   "source": [
    "In the heatmap we can see correlation between features. Among others we can see that OverallQual\n",
    "is most correlated to SalePrice. Apart from the feature also YearBuilt, TotalBsmtSF, 1stFlrSF, GrLivArea\n",
    "GarageCars, GarageArea are quite correlated to SalePrice. We can also see characteristic squares -\n",
    "bigger one consists of GarageBlt, GarageCars and GarageAre, the smaller one consists of \n",
    "TotalBsmtSF and 1stFlrSF - we can see these features correlate each other quite strongly."
   ]
  },
  {
   "cell_type": "markdown",
   "metadata": {},
   "source": [
    "There are still missing data. Let's see which columns have missing data now"
   ]
  },
  {
   "cell_type": "code",
   "execution_count": 14,
   "metadata": {},
   "outputs": [
    {
     "data": {
      "text/plain": [
       "Index(['LotFrontage', 'MasVnrType', 'MasVnrArea', 'BsmtQual', 'BsmtCond',\n",
       "       'BsmtExposure', 'BsmtFinType1', 'BsmtFinType2', 'Electrical',\n",
       "       'FireplaceQu', 'GarageType', 'GarageYrBlt', 'GarageFinish',\n",
       "       'GarageQual', 'GarageCond'],\n",
       "      dtype='object')"
      ]
     },
     "execution_count": 14,
     "metadata": {},
     "output_type": "execute_result"
    }
   ],
   "source": [
    "df.columns[df.isnull().any()]"
   ]
  },
  {
   "cell_type": "code",
   "execution_count": 15,
   "metadata": {},
   "outputs": [
    {
     "data": {
      "text/html": [
       "<div>\n",
       "<style scoped>\n",
       "    .dataframe tbody tr th:only-of-type {\n",
       "        vertical-align: middle;\n",
       "    }\n",
       "\n",
       "    .dataframe tbody tr th {\n",
       "        vertical-align: top;\n",
       "    }\n",
       "\n",
       "    .dataframe thead th {\n",
       "        text-align: right;\n",
       "    }\n",
       "</style>\n",
       "<table border=\"1\" class=\"dataframe\">\n",
       "  <thead>\n",
       "    <tr style=\"text-align: right;\">\n",
       "      <th></th>\n",
       "      <th>LotFrontage</th>\n",
       "      <th>MasVnrType</th>\n",
       "      <th>MasVnrArea</th>\n",
       "      <th>BsmtQual</th>\n",
       "      <th>BsmtCond</th>\n",
       "      <th>BsmtExposure</th>\n",
       "      <th>BsmtFinType1</th>\n",
       "      <th>BsmtFinType2</th>\n",
       "      <th>Electrical</th>\n",
       "      <th>FireplaceQu</th>\n",
       "      <th>GarageType</th>\n",
       "      <th>GarageYrBlt</th>\n",
       "      <th>GarageFinish</th>\n",
       "      <th>GarageQual</th>\n",
       "      <th>GarageCond</th>\n",
       "    </tr>\n",
       "  </thead>\n",
       "  <tbody>\n",
       "    <tr>\n",
       "      <th>0</th>\n",
       "      <td>65.0</td>\n",
       "      <td>BrkFace</td>\n",
       "      <td>196.0</td>\n",
       "      <td>Gd</td>\n",
       "      <td>TA</td>\n",
       "      <td>No</td>\n",
       "      <td>GLQ</td>\n",
       "      <td>Unf</td>\n",
       "      <td>SBrkr</td>\n",
       "      <td>NaN</td>\n",
       "      <td>Attchd</td>\n",
       "      <td>2003.0</td>\n",
       "      <td>RFn</td>\n",
       "      <td>TA</td>\n",
       "      <td>TA</td>\n",
       "    </tr>\n",
       "    <tr>\n",
       "      <th>1</th>\n",
       "      <td>80.0</td>\n",
       "      <td>None</td>\n",
       "      <td>0.0</td>\n",
       "      <td>Gd</td>\n",
       "      <td>TA</td>\n",
       "      <td>Gd</td>\n",
       "      <td>ALQ</td>\n",
       "      <td>Unf</td>\n",
       "      <td>SBrkr</td>\n",
       "      <td>TA</td>\n",
       "      <td>Attchd</td>\n",
       "      <td>1976.0</td>\n",
       "      <td>RFn</td>\n",
       "      <td>TA</td>\n",
       "      <td>TA</td>\n",
       "    </tr>\n",
       "    <tr>\n",
       "      <th>2</th>\n",
       "      <td>68.0</td>\n",
       "      <td>BrkFace</td>\n",
       "      <td>162.0</td>\n",
       "      <td>Gd</td>\n",
       "      <td>TA</td>\n",
       "      <td>Mn</td>\n",
       "      <td>GLQ</td>\n",
       "      <td>Unf</td>\n",
       "      <td>SBrkr</td>\n",
       "      <td>TA</td>\n",
       "      <td>Attchd</td>\n",
       "      <td>2001.0</td>\n",
       "      <td>RFn</td>\n",
       "      <td>TA</td>\n",
       "      <td>TA</td>\n",
       "    </tr>\n",
       "    <tr>\n",
       "      <th>3</th>\n",
       "      <td>60.0</td>\n",
       "      <td>None</td>\n",
       "      <td>0.0</td>\n",
       "      <td>TA</td>\n",
       "      <td>Gd</td>\n",
       "      <td>No</td>\n",
       "      <td>ALQ</td>\n",
       "      <td>Unf</td>\n",
       "      <td>SBrkr</td>\n",
       "      <td>Gd</td>\n",
       "      <td>Detchd</td>\n",
       "      <td>1998.0</td>\n",
       "      <td>Unf</td>\n",
       "      <td>TA</td>\n",
       "      <td>TA</td>\n",
       "    </tr>\n",
       "    <tr>\n",
       "      <th>4</th>\n",
       "      <td>84.0</td>\n",
       "      <td>BrkFace</td>\n",
       "      <td>350.0</td>\n",
       "      <td>Gd</td>\n",
       "      <td>TA</td>\n",
       "      <td>Av</td>\n",
       "      <td>GLQ</td>\n",
       "      <td>Unf</td>\n",
       "      <td>SBrkr</td>\n",
       "      <td>TA</td>\n",
       "      <td>Attchd</td>\n",
       "      <td>2000.0</td>\n",
       "      <td>RFn</td>\n",
       "      <td>TA</td>\n",
       "      <td>TA</td>\n",
       "    </tr>\n",
       "    <tr>\n",
       "      <th>...</th>\n",
       "      <td>...</td>\n",
       "      <td>...</td>\n",
       "      <td>...</td>\n",
       "      <td>...</td>\n",
       "      <td>...</td>\n",
       "      <td>...</td>\n",
       "      <td>...</td>\n",
       "      <td>...</td>\n",
       "      <td>...</td>\n",
       "      <td>...</td>\n",
       "      <td>...</td>\n",
       "      <td>...</td>\n",
       "      <td>...</td>\n",
       "      <td>...</td>\n",
       "      <td>...</td>\n",
       "    </tr>\n",
       "    <tr>\n",
       "      <th>1455</th>\n",
       "      <td>62.0</td>\n",
       "      <td>None</td>\n",
       "      <td>0.0</td>\n",
       "      <td>Gd</td>\n",
       "      <td>TA</td>\n",
       "      <td>No</td>\n",
       "      <td>Unf</td>\n",
       "      <td>Unf</td>\n",
       "      <td>SBrkr</td>\n",
       "      <td>TA</td>\n",
       "      <td>Attchd</td>\n",
       "      <td>1999.0</td>\n",
       "      <td>RFn</td>\n",
       "      <td>TA</td>\n",
       "      <td>TA</td>\n",
       "    </tr>\n",
       "    <tr>\n",
       "      <th>1456</th>\n",
       "      <td>85.0</td>\n",
       "      <td>Stone</td>\n",
       "      <td>119.0</td>\n",
       "      <td>Gd</td>\n",
       "      <td>TA</td>\n",
       "      <td>No</td>\n",
       "      <td>ALQ</td>\n",
       "      <td>Rec</td>\n",
       "      <td>SBrkr</td>\n",
       "      <td>TA</td>\n",
       "      <td>Attchd</td>\n",
       "      <td>1978.0</td>\n",
       "      <td>Unf</td>\n",
       "      <td>TA</td>\n",
       "      <td>TA</td>\n",
       "    </tr>\n",
       "    <tr>\n",
       "      <th>1457</th>\n",
       "      <td>66.0</td>\n",
       "      <td>None</td>\n",
       "      <td>0.0</td>\n",
       "      <td>TA</td>\n",
       "      <td>Gd</td>\n",
       "      <td>No</td>\n",
       "      <td>GLQ</td>\n",
       "      <td>Unf</td>\n",
       "      <td>SBrkr</td>\n",
       "      <td>Gd</td>\n",
       "      <td>Attchd</td>\n",
       "      <td>1941.0</td>\n",
       "      <td>RFn</td>\n",
       "      <td>TA</td>\n",
       "      <td>TA</td>\n",
       "    </tr>\n",
       "    <tr>\n",
       "      <th>1458</th>\n",
       "      <td>68.0</td>\n",
       "      <td>None</td>\n",
       "      <td>0.0</td>\n",
       "      <td>TA</td>\n",
       "      <td>TA</td>\n",
       "      <td>Mn</td>\n",
       "      <td>GLQ</td>\n",
       "      <td>Rec</td>\n",
       "      <td>FuseA</td>\n",
       "      <td>NaN</td>\n",
       "      <td>Attchd</td>\n",
       "      <td>1950.0</td>\n",
       "      <td>Unf</td>\n",
       "      <td>TA</td>\n",
       "      <td>TA</td>\n",
       "    </tr>\n",
       "    <tr>\n",
       "      <th>1459</th>\n",
       "      <td>75.0</td>\n",
       "      <td>None</td>\n",
       "      <td>0.0</td>\n",
       "      <td>TA</td>\n",
       "      <td>TA</td>\n",
       "      <td>No</td>\n",
       "      <td>BLQ</td>\n",
       "      <td>LwQ</td>\n",
       "      <td>SBrkr</td>\n",
       "      <td>NaN</td>\n",
       "      <td>Attchd</td>\n",
       "      <td>1965.0</td>\n",
       "      <td>Fin</td>\n",
       "      <td>TA</td>\n",
       "      <td>TA</td>\n",
       "    </tr>\n",
       "  </tbody>\n",
       "</table>\n",
       "<p>1460 rows × 15 columns</p>\n",
       "</div>"
      ],
      "text/plain": [
       "      LotFrontage MasVnrType  MasVnrArea BsmtQual BsmtCond BsmtExposure  \\\n",
       "0            65.0    BrkFace       196.0       Gd       TA           No   \n",
       "1            80.0       None         0.0       Gd       TA           Gd   \n",
       "2            68.0    BrkFace       162.0       Gd       TA           Mn   \n",
       "3            60.0       None         0.0       TA       Gd           No   \n",
       "4            84.0    BrkFace       350.0       Gd       TA           Av   \n",
       "...           ...        ...         ...      ...      ...          ...   \n",
       "1455         62.0       None         0.0       Gd       TA           No   \n",
       "1456         85.0      Stone       119.0       Gd       TA           No   \n",
       "1457         66.0       None         0.0       TA       Gd           No   \n",
       "1458         68.0       None         0.0       TA       TA           Mn   \n",
       "1459         75.0       None         0.0       TA       TA           No   \n",
       "\n",
       "     BsmtFinType1 BsmtFinType2 Electrical FireplaceQu GarageType  GarageYrBlt  \\\n",
       "0             GLQ          Unf      SBrkr         NaN     Attchd       2003.0   \n",
       "1             ALQ          Unf      SBrkr          TA     Attchd       1976.0   \n",
       "2             GLQ          Unf      SBrkr          TA     Attchd       2001.0   \n",
       "3             ALQ          Unf      SBrkr          Gd     Detchd       1998.0   \n",
       "4             GLQ          Unf      SBrkr          TA     Attchd       2000.0   \n",
       "...           ...          ...        ...         ...        ...          ...   \n",
       "1455          Unf          Unf      SBrkr          TA     Attchd       1999.0   \n",
       "1456          ALQ          Rec      SBrkr          TA     Attchd       1978.0   \n",
       "1457          GLQ          Unf      SBrkr          Gd     Attchd       1941.0   \n",
       "1458          GLQ          Rec      FuseA         NaN     Attchd       1950.0   \n",
       "1459          BLQ          LwQ      SBrkr         NaN     Attchd       1965.0   \n",
       "\n",
       "     GarageFinish GarageQual GarageCond  \n",
       "0             RFn         TA         TA  \n",
       "1             RFn         TA         TA  \n",
       "2             RFn         TA         TA  \n",
       "3             Unf         TA         TA  \n",
       "4             RFn         TA         TA  \n",
       "...           ...        ...        ...  \n",
       "1455          RFn         TA         TA  \n",
       "1456          Unf         TA         TA  \n",
       "1457          RFn         TA         TA  \n",
       "1458          Unf         TA         TA  \n",
       "1459          Fin         TA         TA  \n",
       "\n",
       "[1460 rows x 15 columns]"
      ]
     },
     "execution_count": 15,
     "metadata": {},
     "output_type": "execute_result"
    }
   ],
   "source": [
    "df.loc[:, df.isnull().any()]"
   ]
  },
  {
   "cell_type": "code",
   "execution_count": 16,
   "metadata": {
    "scrolled": true
   },
   "outputs": [
    {
     "name": "stdout",
     "output_type": "stream",
     "text": [
      "<class 'pandas.core.frame.DataFrame'>\n",
      "RangeIndex: 1460 entries, 0 to 1459\n",
      "Data columns (total 15 columns):\n",
      " #   Column        Non-Null Count  Dtype  \n",
      "---  ------        --------------  -----  \n",
      " 0   LotFrontage   1201 non-null   float64\n",
      " 1   MasVnrType    1452 non-null   object \n",
      " 2   MasVnrArea    1452 non-null   float64\n",
      " 3   BsmtQual      1423 non-null   object \n",
      " 4   BsmtCond      1423 non-null   object \n",
      " 5   BsmtExposure  1422 non-null   object \n",
      " 6   BsmtFinType1  1423 non-null   object \n",
      " 7   BsmtFinType2  1422 non-null   object \n",
      " 8   Electrical    1459 non-null   object \n",
      " 9   FireplaceQu   770 non-null    object \n",
      " 10  GarageType    1379 non-null   object \n",
      " 11  GarageYrBlt   1379 non-null   float64\n",
      " 12  GarageFinish  1379 non-null   object \n",
      " 13  GarageQual    1379 non-null   object \n",
      " 14  GarageCond    1379 non-null   object \n",
      "dtypes: float64(3), object(12)\n",
      "memory usage: 171.2+ KB\n"
     ]
    }
   ],
   "source": [
    "df.loc[:, df.isnull().any()].info()"
   ]
  },
  {
   "cell_type": "markdown",
   "metadata": {},
   "source": [
    "We can see every Garage related column has the same amount of non-null values. \n",
    "We can assume they regard the same rows. Let's check it."
   ]
  },
  {
   "cell_type": "markdown",
   "metadata": {},
   "source": [
    "Display all related Garage columns (including columns which have all non-null values).\n",
    "Additionally show only rows for GarageType = null."
   ]
  },
  {
   "cell_type": "code",
   "execution_count": 17,
   "metadata": {},
   "outputs": [
    {
     "data": {
      "text/html": [
       "<div>\n",
       "<style scoped>\n",
       "    .dataframe tbody tr th:only-of-type {\n",
       "        vertical-align: middle;\n",
       "    }\n",
       "\n",
       "    .dataframe tbody tr th {\n",
       "        vertical-align: top;\n",
       "    }\n",
       "\n",
       "    .dataframe thead th {\n",
       "        text-align: right;\n",
       "    }\n",
       "</style>\n",
       "<table border=\"1\" class=\"dataframe\">\n",
       "  <thead>\n",
       "    <tr style=\"text-align: right;\">\n",
       "      <th></th>\n",
       "      <th>GarageType</th>\n",
       "      <th>GarageYrBlt</th>\n",
       "      <th>GarageFinish</th>\n",
       "      <th>GarageQual</th>\n",
       "      <th>GarageCond</th>\n",
       "      <th>GarageCars</th>\n",
       "      <th>GarageArea</th>\n",
       "    </tr>\n",
       "  </thead>\n",
       "  <tbody>\n",
       "    <tr>\n",
       "      <th>39</th>\n",
       "      <td>NaN</td>\n",
       "      <td>NaN</td>\n",
       "      <td>NaN</td>\n",
       "      <td>NaN</td>\n",
       "      <td>NaN</td>\n",
       "      <td>0</td>\n",
       "      <td>0</td>\n",
       "    </tr>\n",
       "    <tr>\n",
       "      <th>48</th>\n",
       "      <td>NaN</td>\n",
       "      <td>NaN</td>\n",
       "      <td>NaN</td>\n",
       "      <td>NaN</td>\n",
       "      <td>NaN</td>\n",
       "      <td>0</td>\n",
       "      <td>0</td>\n",
       "    </tr>\n",
       "    <tr>\n",
       "      <th>78</th>\n",
       "      <td>NaN</td>\n",
       "      <td>NaN</td>\n",
       "      <td>NaN</td>\n",
       "      <td>NaN</td>\n",
       "      <td>NaN</td>\n",
       "      <td>0</td>\n",
       "      <td>0</td>\n",
       "    </tr>\n",
       "    <tr>\n",
       "      <th>88</th>\n",
       "      <td>NaN</td>\n",
       "      <td>NaN</td>\n",
       "      <td>NaN</td>\n",
       "      <td>NaN</td>\n",
       "      <td>NaN</td>\n",
       "      <td>0</td>\n",
       "      <td>0</td>\n",
       "    </tr>\n",
       "    <tr>\n",
       "      <th>89</th>\n",
       "      <td>NaN</td>\n",
       "      <td>NaN</td>\n",
       "      <td>NaN</td>\n",
       "      <td>NaN</td>\n",
       "      <td>NaN</td>\n",
       "      <td>0</td>\n",
       "      <td>0</td>\n",
       "    </tr>\n",
       "    <tr>\n",
       "      <th>...</th>\n",
       "      <td>...</td>\n",
       "      <td>...</td>\n",
       "      <td>...</td>\n",
       "      <td>...</td>\n",
       "      <td>...</td>\n",
       "      <td>...</td>\n",
       "      <td>...</td>\n",
       "    </tr>\n",
       "    <tr>\n",
       "      <th>1349</th>\n",
       "      <td>NaN</td>\n",
       "      <td>NaN</td>\n",
       "      <td>NaN</td>\n",
       "      <td>NaN</td>\n",
       "      <td>NaN</td>\n",
       "      <td>0</td>\n",
       "      <td>0</td>\n",
       "    </tr>\n",
       "    <tr>\n",
       "      <th>1407</th>\n",
       "      <td>NaN</td>\n",
       "      <td>NaN</td>\n",
       "      <td>NaN</td>\n",
       "      <td>NaN</td>\n",
       "      <td>NaN</td>\n",
       "      <td>0</td>\n",
       "      <td>0</td>\n",
       "    </tr>\n",
       "    <tr>\n",
       "      <th>1449</th>\n",
       "      <td>NaN</td>\n",
       "      <td>NaN</td>\n",
       "      <td>NaN</td>\n",
       "      <td>NaN</td>\n",
       "      <td>NaN</td>\n",
       "      <td>0</td>\n",
       "      <td>0</td>\n",
       "    </tr>\n",
       "    <tr>\n",
       "      <th>1450</th>\n",
       "      <td>NaN</td>\n",
       "      <td>NaN</td>\n",
       "      <td>NaN</td>\n",
       "      <td>NaN</td>\n",
       "      <td>NaN</td>\n",
       "      <td>0</td>\n",
       "      <td>0</td>\n",
       "    </tr>\n",
       "    <tr>\n",
       "      <th>1453</th>\n",
       "      <td>NaN</td>\n",
       "      <td>NaN</td>\n",
       "      <td>NaN</td>\n",
       "      <td>NaN</td>\n",
       "      <td>NaN</td>\n",
       "      <td>0</td>\n",
       "      <td>0</td>\n",
       "    </tr>\n",
       "  </tbody>\n",
       "</table>\n",
       "<p>81 rows × 7 columns</p>\n",
       "</div>"
      ],
      "text/plain": [
       "     GarageType  GarageYrBlt GarageFinish GarageQual GarageCond  GarageCars  \\\n",
       "39          NaN          NaN          NaN        NaN        NaN           0   \n",
       "48          NaN          NaN          NaN        NaN        NaN           0   \n",
       "78          NaN          NaN          NaN        NaN        NaN           0   \n",
       "88          NaN          NaN          NaN        NaN        NaN           0   \n",
       "89          NaN          NaN          NaN        NaN        NaN           0   \n",
       "...         ...          ...          ...        ...        ...         ...   \n",
       "1349        NaN          NaN          NaN        NaN        NaN           0   \n",
       "1407        NaN          NaN          NaN        NaN        NaN           0   \n",
       "1449        NaN          NaN          NaN        NaN        NaN           0   \n",
       "1450        NaN          NaN          NaN        NaN        NaN           0   \n",
       "1453        NaN          NaN          NaN        NaN        NaN           0   \n",
       "\n",
       "      GarageArea  \n",
       "39             0  \n",
       "48             0  \n",
       "78             0  \n",
       "88             0  \n",
       "89             0  \n",
       "...          ...  \n",
       "1349           0  \n",
       "1407           0  \n",
       "1449           0  \n",
       "1450           0  \n",
       "1453           0  \n",
       "\n",
       "[81 rows x 7 columns]"
      ]
     },
     "execution_count": 17,
     "metadata": {},
     "output_type": "execute_result"
    }
   ],
   "source": [
    "df_garage_cols = df[['GarageType', 'GarageYrBlt', 'GarageFinish', 'GarageQual', 'GarageCond', 'GarageCars', 'GarageArea']]\n",
    "df_garage_cols[df_garage_cols['GarageType'].isnull()]"
   ]
  },
  {
   "cell_type": "markdown",
   "metadata": {},
   "source": [
    "It seems all null values for columns 'GarageType', 'GarageYrBlt', 'GarageFinish', 'GarageQual', 'GarageCond'\n",
    "are situated in the same rows. Even columns 'GarageCars', 'GarageArea' seem to have only 0 values. \n",
    "Let's check for sure - let's display columns where 'GarageType', 'GarageYrBlt', 'GarageFinish', 'GarageQual', \n",
    "'GarageCond' have only null values and 'GarageCars', 'GarageArea' have only 0 values"
   ]
  },
  {
   "cell_type": "code",
   "execution_count": 18,
   "metadata": {},
   "outputs": [
    {
     "data": {
      "text/html": [
       "<div>\n",
       "<style scoped>\n",
       "    .dataframe tbody tr th:only-of-type {\n",
       "        vertical-align: middle;\n",
       "    }\n",
       "\n",
       "    .dataframe tbody tr th {\n",
       "        vertical-align: top;\n",
       "    }\n",
       "\n",
       "    .dataframe thead th {\n",
       "        text-align: right;\n",
       "    }\n",
       "</style>\n",
       "<table border=\"1\" class=\"dataframe\">\n",
       "  <thead>\n",
       "    <tr style=\"text-align: right;\">\n",
       "      <th></th>\n",
       "      <th>GarageType</th>\n",
       "      <th>GarageYrBlt</th>\n",
       "      <th>GarageFinish</th>\n",
       "      <th>GarageQual</th>\n",
       "      <th>GarageCond</th>\n",
       "      <th>GarageCars</th>\n",
       "      <th>GarageArea</th>\n",
       "    </tr>\n",
       "  </thead>\n",
       "  <tbody>\n",
       "    <tr>\n",
       "      <th>39</th>\n",
       "      <td>NaN</td>\n",
       "      <td>NaN</td>\n",
       "      <td>NaN</td>\n",
       "      <td>NaN</td>\n",
       "      <td>NaN</td>\n",
       "      <td>0</td>\n",
       "      <td>0</td>\n",
       "    </tr>\n",
       "    <tr>\n",
       "      <th>48</th>\n",
       "      <td>NaN</td>\n",
       "      <td>NaN</td>\n",
       "      <td>NaN</td>\n",
       "      <td>NaN</td>\n",
       "      <td>NaN</td>\n",
       "      <td>0</td>\n",
       "      <td>0</td>\n",
       "    </tr>\n",
       "    <tr>\n",
       "      <th>78</th>\n",
       "      <td>NaN</td>\n",
       "      <td>NaN</td>\n",
       "      <td>NaN</td>\n",
       "      <td>NaN</td>\n",
       "      <td>NaN</td>\n",
       "      <td>0</td>\n",
       "      <td>0</td>\n",
       "    </tr>\n",
       "    <tr>\n",
       "      <th>88</th>\n",
       "      <td>NaN</td>\n",
       "      <td>NaN</td>\n",
       "      <td>NaN</td>\n",
       "      <td>NaN</td>\n",
       "      <td>NaN</td>\n",
       "      <td>0</td>\n",
       "      <td>0</td>\n",
       "    </tr>\n",
       "    <tr>\n",
       "      <th>89</th>\n",
       "      <td>NaN</td>\n",
       "      <td>NaN</td>\n",
       "      <td>NaN</td>\n",
       "      <td>NaN</td>\n",
       "      <td>NaN</td>\n",
       "      <td>0</td>\n",
       "      <td>0</td>\n",
       "    </tr>\n",
       "    <tr>\n",
       "      <th>...</th>\n",
       "      <td>...</td>\n",
       "      <td>...</td>\n",
       "      <td>...</td>\n",
       "      <td>...</td>\n",
       "      <td>...</td>\n",
       "      <td>...</td>\n",
       "      <td>...</td>\n",
       "    </tr>\n",
       "    <tr>\n",
       "      <th>1349</th>\n",
       "      <td>NaN</td>\n",
       "      <td>NaN</td>\n",
       "      <td>NaN</td>\n",
       "      <td>NaN</td>\n",
       "      <td>NaN</td>\n",
       "      <td>0</td>\n",
       "      <td>0</td>\n",
       "    </tr>\n",
       "    <tr>\n",
       "      <th>1407</th>\n",
       "      <td>NaN</td>\n",
       "      <td>NaN</td>\n",
       "      <td>NaN</td>\n",
       "      <td>NaN</td>\n",
       "      <td>NaN</td>\n",
       "      <td>0</td>\n",
       "      <td>0</td>\n",
       "    </tr>\n",
       "    <tr>\n",
       "      <th>1449</th>\n",
       "      <td>NaN</td>\n",
       "      <td>NaN</td>\n",
       "      <td>NaN</td>\n",
       "      <td>NaN</td>\n",
       "      <td>NaN</td>\n",
       "      <td>0</td>\n",
       "      <td>0</td>\n",
       "    </tr>\n",
       "    <tr>\n",
       "      <th>1450</th>\n",
       "      <td>NaN</td>\n",
       "      <td>NaN</td>\n",
       "      <td>NaN</td>\n",
       "      <td>NaN</td>\n",
       "      <td>NaN</td>\n",
       "      <td>0</td>\n",
       "      <td>0</td>\n",
       "    </tr>\n",
       "    <tr>\n",
       "      <th>1453</th>\n",
       "      <td>NaN</td>\n",
       "      <td>NaN</td>\n",
       "      <td>NaN</td>\n",
       "      <td>NaN</td>\n",
       "      <td>NaN</td>\n",
       "      <td>0</td>\n",
       "      <td>0</td>\n",
       "    </tr>\n",
       "  </tbody>\n",
       "</table>\n",
       "<p>81 rows × 7 columns</p>\n",
       "</div>"
      ],
      "text/plain": [
       "     GarageType  GarageYrBlt GarageFinish GarageQual GarageCond  GarageCars  \\\n",
       "39          NaN          NaN          NaN        NaN        NaN           0   \n",
       "48          NaN          NaN          NaN        NaN        NaN           0   \n",
       "78          NaN          NaN          NaN        NaN        NaN           0   \n",
       "88          NaN          NaN          NaN        NaN        NaN           0   \n",
       "89          NaN          NaN          NaN        NaN        NaN           0   \n",
       "...         ...          ...          ...        ...        ...         ...   \n",
       "1349        NaN          NaN          NaN        NaN        NaN           0   \n",
       "1407        NaN          NaN          NaN        NaN        NaN           0   \n",
       "1449        NaN          NaN          NaN        NaN        NaN           0   \n",
       "1450        NaN          NaN          NaN        NaN        NaN           0   \n",
       "1453        NaN          NaN          NaN        NaN        NaN           0   \n",
       "\n",
       "      GarageArea  \n",
       "39             0  \n",
       "48             0  \n",
       "78             0  \n",
       "88             0  \n",
       "89             0  \n",
       "...          ...  \n",
       "1349           0  \n",
       "1407           0  \n",
       "1449           0  \n",
       "1450           0  \n",
       "1453           0  \n",
       "\n",
       "[81 rows x 7 columns]"
      ]
     },
     "execution_count": 18,
     "metadata": {},
     "output_type": "execute_result"
    }
   ],
   "source": [
    "df_garage_cols[df_garage_cols['GarageType'].isnull() & \n",
    "               df_garage_cols['GarageYrBlt'].isnull() &\n",
    "               df_garage_cols['GarageFinish'].isnull() &\n",
    "               df_garage_cols['GarageQual'].isnull() & \n",
    "               df_garage_cols['GarageCond'].isnull() &\n",
    "               (df_garage_cols['GarageCars'] == 0) &\n",
    "               (df_garage_cols['GarageArea'] == 0)]"
   ]
  },
  {
   "cell_type": "markdown",
   "metadata": {},
   "source": [
    "We can see again 81 rows. So we confirmed what we had assumed earlier.\n",
    "As they all regard Garage we can delete those columns with missing data.\n",
    "Apart from Garage related features we have such columns with missing data yet:\n",
    "- LotFrontage - Linear feet of street connected to property - ok, it can be significant (heatmap says similarly)\n",
    "- MasVnrType, MasVnrArea - related to masonry veneer - is client realy wondering about it? \n",
    "- BsmtQual, BsmtCond, BsmtExposure, BsmtFinType1, BsmtFinType2 - for basement related features TotalBsmtSF\n",
    "is kind of representative of them (heatmap reflects that)\n",
    "- Electrical - Electrical system - is client realy wondering about it?\n",
    "- FireplaceQu - amount of non-null values equals 770 (so it is bit low) and it looks Fireplaces feature\n",
    "which has all values should be enough to cover Fireplace features (Fireplaces says about\n",
    "number of fireplaces whereas FireplaceQu says about quality - Fireplaces feature seems to be more basic\n",
    "and valuable)<br>\n",
    "\n",
    "Apart from above columns - column Id is not valuable here - it tells us about order of rows only."
   ]
  },
  {
   "cell_type": "markdown",
   "metadata": {},
   "source": [
    "Let's delete all columns which we listed above (except for LotFrontage)."
   ]
  },
  {
   "cell_type": "code",
   "execution_count": 19,
   "metadata": {},
   "outputs": [
    {
     "data": {
      "text/plain": [
       "(1460, 62)"
      ]
     },
     "execution_count": 19,
     "metadata": {},
     "output_type": "execute_result"
    }
   ],
   "source": [
    "df = df.drop(['Id', 'MasVnrType', 'MasVnrArea', 'BsmtQual', 'BsmtCond',\n",
    "       'BsmtExposure', 'BsmtFinType1', 'BsmtFinType2', 'Electrical',\n",
    "       'FireplaceQu', 'GarageType', 'GarageYrBlt', 'GarageFinish',\n",
    "       'GarageQual', 'GarageCond'], axis='columns')\n",
    "df.shape"
   ]
  },
  {
   "cell_type": "code",
   "execution_count": 20,
   "metadata": {},
   "outputs": [
    {
     "name": "stdout",
     "output_type": "stream",
     "text": [
      "<class 'pandas.core.frame.DataFrame'>\n",
      "RangeIndex: 1460 entries, 0 to 1459\n",
      "Data columns (total 1 columns):\n",
      " #   Column       Non-Null Count  Dtype  \n",
      "---  ------       --------------  -----  \n",
      " 0   LotFrontage  1201 non-null   float64\n",
      "dtypes: float64(1)\n",
      "memory usage: 11.5 KB\n"
     ]
    }
   ],
   "source": [
    "df.loc[:, df.isnull().any()].info()"
   ]
  },
  {
   "cell_type": "markdown",
   "metadata": {},
   "source": [
    "As we can see only LotFrontage still has null values. We are going to impute data there but \n",
    "we will do this after splitting data into train and test data to avoid data leakage."
   ]
  },
  {
   "cell_type": "markdown",
   "metadata": {},
   "source": [
    "Let's see current list of columns again:"
   ]
  },
  {
   "cell_type": "code",
   "execution_count": 21,
   "metadata": {},
   "outputs": [
    {
     "name": "stdout",
     "output_type": "stream",
     "text": [
      "<class 'pandas.core.frame.DataFrame'>\n",
      "RangeIndex: 1460 entries, 0 to 1459\n",
      "Data columns (total 62 columns):\n",
      " #   Column         Non-Null Count  Dtype  \n",
      "---  ------         --------------  -----  \n",
      " 0   MSSubClass     1460 non-null   int64  \n",
      " 1   MSZoning       1460 non-null   object \n",
      " 2   LotFrontage    1201 non-null   float64\n",
      " 3   LotArea        1460 non-null   int64  \n",
      " 4   Street         1460 non-null   object \n",
      " 5   LotShape       1460 non-null   object \n",
      " 6   LandContour    1460 non-null   object \n",
      " 7   Utilities      1460 non-null   object \n",
      " 8   LotConfig      1460 non-null   object \n",
      " 9   LandSlope      1460 non-null   object \n",
      " 10  Neighborhood   1460 non-null   object \n",
      " 11  Condition1     1460 non-null   object \n",
      " 12  Condition2     1460 non-null   object \n",
      " 13  BldgType       1460 non-null   object \n",
      " 14  HouseStyle     1460 non-null   object \n",
      " 15  OverallQual    1460 non-null   int64  \n",
      " 16  OverallCond    1460 non-null   int64  \n",
      " 17  YearBuilt      1460 non-null   int64  \n",
      " 18  YearRemodAdd   1460 non-null   int64  \n",
      " 19  RoofStyle      1460 non-null   object \n",
      " 20  RoofMatl       1460 non-null   object \n",
      " 21  Exterior1st    1460 non-null   object \n",
      " 22  Exterior2nd    1460 non-null   object \n",
      " 23  ExterQual      1460 non-null   object \n",
      " 24  ExterCond      1460 non-null   object \n",
      " 25  Foundation     1460 non-null   object \n",
      " 26  BsmtFinSF1     1460 non-null   int64  \n",
      " 27  BsmtFinSF2     1460 non-null   int64  \n",
      " 28  BsmtUnfSF      1460 non-null   int64  \n",
      " 29  TotalBsmtSF    1460 non-null   int64  \n",
      " 30  Heating        1460 non-null   object \n",
      " 31  HeatingQC      1460 non-null   object \n",
      " 32  CentralAir     1460 non-null   object \n",
      " 33  1stFlrSF       1460 non-null   int64  \n",
      " 34  2ndFlrSF       1460 non-null   int64  \n",
      " 35  LowQualFinSF   1460 non-null   int64  \n",
      " 36  GrLivArea      1460 non-null   int64  \n",
      " 37  BsmtFullBath   1460 non-null   int64  \n",
      " 38  BsmtHalfBath   1460 non-null   int64  \n",
      " 39  FullBath       1460 non-null   int64  \n",
      " 40  HalfBath       1460 non-null   int64  \n",
      " 41  BedroomAbvGr   1460 non-null   int64  \n",
      " 42  KitchenAbvGr   1460 non-null   int64  \n",
      " 43  KitchenQual    1460 non-null   object \n",
      " 44  TotRmsAbvGrd   1460 non-null   int64  \n",
      " 45  Functional     1460 non-null   object \n",
      " 46  Fireplaces     1460 non-null   int64  \n",
      " 47  GarageCars     1460 non-null   int64  \n",
      " 48  GarageArea     1460 non-null   int64  \n",
      " 49  PavedDrive     1460 non-null   object \n",
      " 50  WoodDeckSF     1460 non-null   int64  \n",
      " 51  OpenPorchSF    1460 non-null   int64  \n",
      " 52  EnclosedPorch  1460 non-null   int64  \n",
      " 53  3SsnPorch      1460 non-null   int64  \n",
      " 54  ScreenPorch    1460 non-null   int64  \n",
      " 55  PoolArea       1460 non-null   int64  \n",
      " 56  MiscVal        1460 non-null   int64  \n",
      " 57  MoSold         1460 non-null   int64  \n",
      " 58  YrSold         1460 non-null   int64  \n",
      " 59  SaleType       1460 non-null   object \n",
      " 60  SaleCondition  1460 non-null   object \n",
      " 61  SalePrice      1460 non-null   int64  \n",
      "dtypes: float64(1), int64(34), object(27)\n",
      "memory usage: 707.3+ KB\n"
     ]
    }
   ],
   "source": [
    "df.info()"
   ]
  },
  {
   "cell_type": "markdown",
   "metadata": {},
   "source": [
    "In the data frame there are types: float64(1), int64(34), object(27). Let's create numeric columns and categorical columns"
   ]
  },
  {
   "cell_type": "code",
   "execution_count": 22,
   "metadata": {},
   "outputs": [],
   "source": [
    "num_columns = df.select_dtypes(include=['int64','float64'])\n",
    "cat_columns = df.select_dtypes(exclude=['int64','float64'])"
   ]
  },
  {
   "cell_type": "code",
   "execution_count": 23,
   "metadata": {},
   "outputs": [
    {
     "name": "stdout",
     "output_type": "stream",
     "text": [
      "<class 'pandas.core.frame.DataFrame'>\n",
      "RangeIndex: 1460 entries, 0 to 1459\n",
      "Data columns (total 35 columns):\n",
      " #   Column         Non-Null Count  Dtype  \n",
      "---  ------         --------------  -----  \n",
      " 0   MSSubClass     1460 non-null   int64  \n",
      " 1   LotFrontage    1201 non-null   float64\n",
      " 2   LotArea        1460 non-null   int64  \n",
      " 3   OverallQual    1460 non-null   int64  \n",
      " 4   OverallCond    1460 non-null   int64  \n",
      " 5   YearBuilt      1460 non-null   int64  \n",
      " 6   YearRemodAdd   1460 non-null   int64  \n",
      " 7   BsmtFinSF1     1460 non-null   int64  \n",
      " 8   BsmtFinSF2     1460 non-null   int64  \n",
      " 9   BsmtUnfSF      1460 non-null   int64  \n",
      " 10  TotalBsmtSF    1460 non-null   int64  \n",
      " 11  1stFlrSF       1460 non-null   int64  \n",
      " 12  2ndFlrSF       1460 non-null   int64  \n",
      " 13  LowQualFinSF   1460 non-null   int64  \n",
      " 14  GrLivArea      1460 non-null   int64  \n",
      " 15  BsmtFullBath   1460 non-null   int64  \n",
      " 16  BsmtHalfBath   1460 non-null   int64  \n",
      " 17  FullBath       1460 non-null   int64  \n",
      " 18  HalfBath       1460 non-null   int64  \n",
      " 19  BedroomAbvGr   1460 non-null   int64  \n",
      " 20  KitchenAbvGr   1460 non-null   int64  \n",
      " 21  TotRmsAbvGrd   1460 non-null   int64  \n",
      " 22  Fireplaces     1460 non-null   int64  \n",
      " 23  GarageCars     1460 non-null   int64  \n",
      " 24  GarageArea     1460 non-null   int64  \n",
      " 25  WoodDeckSF     1460 non-null   int64  \n",
      " 26  OpenPorchSF    1460 non-null   int64  \n",
      " 27  EnclosedPorch  1460 non-null   int64  \n",
      " 28  3SsnPorch      1460 non-null   int64  \n",
      " 29  ScreenPorch    1460 non-null   int64  \n",
      " 30  PoolArea       1460 non-null   int64  \n",
      " 31  MiscVal        1460 non-null   int64  \n",
      " 32  MoSold         1460 non-null   int64  \n",
      " 33  YrSold         1460 non-null   int64  \n",
      " 34  SalePrice      1460 non-null   int64  \n",
      "dtypes: float64(1), int64(34)\n",
      "memory usage: 399.3 KB\n"
     ]
    }
   ],
   "source": [
    "num_columns.info()"
   ]
  },
  {
   "cell_type": "code",
   "execution_count": 24,
   "metadata": {},
   "outputs": [
    {
     "name": "stdout",
     "output_type": "stream",
     "text": [
      "<class 'pandas.core.frame.DataFrame'>\n",
      "RangeIndex: 1460 entries, 0 to 1459\n",
      "Data columns (total 27 columns):\n",
      " #   Column         Non-Null Count  Dtype \n",
      "---  ------         --------------  ----- \n",
      " 0   MSZoning       1460 non-null   object\n",
      " 1   Street         1460 non-null   object\n",
      " 2   LotShape       1460 non-null   object\n",
      " 3   LandContour    1460 non-null   object\n",
      " 4   Utilities      1460 non-null   object\n",
      " 5   LotConfig      1460 non-null   object\n",
      " 6   LandSlope      1460 non-null   object\n",
      " 7   Neighborhood   1460 non-null   object\n",
      " 8   Condition1     1460 non-null   object\n",
      " 9   Condition2     1460 non-null   object\n",
      " 10  BldgType       1460 non-null   object\n",
      " 11  HouseStyle     1460 non-null   object\n",
      " 12  RoofStyle      1460 non-null   object\n",
      " 13  RoofMatl       1460 non-null   object\n",
      " 14  Exterior1st    1460 non-null   object\n",
      " 15  Exterior2nd    1460 non-null   object\n",
      " 16  ExterQual      1460 non-null   object\n",
      " 17  ExterCond      1460 non-null   object\n",
      " 18  Foundation     1460 non-null   object\n",
      " 19  Heating        1460 non-null   object\n",
      " 20  HeatingQC      1460 non-null   object\n",
      " 21  CentralAir     1460 non-null   object\n",
      " 22  KitchenQual    1460 non-null   object\n",
      " 23  Functional     1460 non-null   object\n",
      " 24  PavedDrive     1460 non-null   object\n",
      " 25  SaleType       1460 non-null   object\n",
      " 26  SaleCondition  1460 non-null   object\n",
      "dtypes: object(27)\n",
      "memory usage: 308.1+ KB\n"
     ]
    }
   ],
   "source": [
    "cat_columns.info()"
   ]
  },
  {
   "cell_type": "markdown",
   "metadata": {},
   "source": [
    "Let's wonder about categorical columns. There are few columns which can be significant and reasonable to choose: \n",
    "- Street: Type of road access to property\n",
    "- Utilities: Type of utilities available\n",
    "- ExterQual: Evaluates the quality of the material on the exterior \n",
    "- Heating: Type of heating\n",
    "- HeatingQC: Heating quality and condition\n",
    "- CentralAir: Central air conditioning\n",
    "- KitchenQual: Kitchen quality"
   ]
  },
  {
   "cell_type": "markdown",
   "metadata": {},
   "source": [
    "However all quality features like: ExterQual, HeatingQC, KitchenQual seem to be included to OverallQual. Let's ignore them then. For rest (Street, Utilities, Heating, CentrailAir) we will use OneHotEncoding transformation for our model. Let's drop rest categorical columns from main data frame:"
   ]
  },
  {
   "cell_type": "code",
   "execution_count": 25,
   "metadata": {},
   "outputs": [
    {
     "data": {
      "text/plain": [
       "(1460, 39)"
      ]
     },
     "execution_count": 25,
     "metadata": {},
     "output_type": "execute_result"
    }
   ],
   "source": [
    "df = df.drop(['MSZoning', 'LotShape', 'LandContour', 'LotConfig', 'LandSlope', \n",
    "              'Neighborhood', 'Condition1', 'Condition2', 'BldgType', 'HouseStyle', \n",
    "              'RoofStyle', 'RoofMatl', 'Exterior1st', 'Exterior2nd', 'ExterQual', \n",
    "              'ExterCond', 'Foundation', 'HeatingQC', 'KitchenQual', 'Functional', \n",
    "              'PavedDrive', 'SaleType', 'SaleCondition'], axis='columns')\n",
    "df.shape"
   ]
  },
  {
   "cell_type": "markdown",
   "metadata": {},
   "source": [
    "### Splitting data into train and test set"
   ]
  },
  {
   "cell_type": "markdown",
   "metadata": {},
   "source": [
    "Let's split data into training and test set:"
   ]
  },
  {
   "cell_type": "code",
   "execution_count": 26,
   "metadata": {},
   "outputs": [],
   "source": [
    "X_train, X_test, y_train, y_test = train_test_split(df.drop('SalePrice', axis=1), \n",
    "                                                    df['SalePrice'], \n",
    "                                                    test_size=0.2,\n",
    "                                                    random_state=12)"
   ]
  },
  {
   "cell_type": "markdown",
   "metadata": {},
   "source": [
    "Before we got to next step (data preprocessing) we need to split data to numeric and categorical data. Let's do it:"
   ]
  },
  {
   "cell_type": "code",
   "execution_count": 27,
   "metadata": {},
   "outputs": [],
   "source": [
    "X_train_num = X_train.select_dtypes(include=['int64','float64'])\n",
    "X_test_num = X_test.select_dtypes(include=['int64','float64'])\n",
    "X_train_cat = X_train.select_dtypes(exclude=['int64','float64'])\n",
    "X_test_cat = X_test.select_dtypes(exclude=['int64','float64'])"
   ]
  },
  {
   "cell_type": "code",
   "execution_count": 28,
   "metadata": {},
   "outputs": [
    {
     "data": {
      "text/plain": [
       "(1168, 34)"
      ]
     },
     "execution_count": 28,
     "metadata": {},
     "output_type": "execute_result"
    }
   ],
   "source": [
    "X_train_num.shape"
   ]
  },
  {
   "cell_type": "code",
   "execution_count": 29,
   "metadata": {},
   "outputs": [
    {
     "data": {
      "text/plain": [
       "(292, 34)"
      ]
     },
     "execution_count": 29,
     "metadata": {},
     "output_type": "execute_result"
    }
   ],
   "source": [
    "X_test_num.shape"
   ]
  },
  {
   "cell_type": "code",
   "execution_count": 30,
   "metadata": {},
   "outputs": [
    {
     "data": {
      "text/plain": [
       "(1168, 4)"
      ]
     },
     "execution_count": 30,
     "metadata": {},
     "output_type": "execute_result"
    }
   ],
   "source": [
    "X_train_cat.shape"
   ]
  },
  {
   "cell_type": "code",
   "execution_count": 31,
   "metadata": {},
   "outputs": [
    {
     "data": {
      "text/plain": [
       "(292, 4)"
      ]
     },
     "execution_count": 31,
     "metadata": {},
     "output_type": "execute_result"
    }
   ],
   "source": [
    "X_test_cat.shape"
   ]
  },
  {
   "cell_type": "markdown",
   "metadata": {},
   "source": [
    "### Categorical data"
   ]
  },
  {
   "cell_type": "markdown",
   "metadata": {},
   "source": [
    "Let's check categorical data and their distribution:"
   ]
  },
  {
   "cell_type": "code",
   "execution_count": 32,
   "metadata": {},
   "outputs": [
    {
     "name": "stdout",
     "output_type": "stream",
     "text": [
      "Columns: Street\n",
      "Unique values: 2\n"
     ]
    },
    {
     "data": {
      "image/png": "[encoded data removed]",
      "text/plain": [
       "<Figure size 432x288 with 1 Axes>"
      ]
     },
     "metadata": {
      "needs_background": "light"
     },
     "output_type": "display_data"
    },
    {
     "name": "stdout",
     "output_type": "stream",
     "text": [
      "Columns: Utilities\n",
      "Unique values: 1\n"
     ]
    },
    {
     "data": {
      "image/png": "[encoded data removed]",
      "text/plain": [
       "<Figure size 432x288 with 1 Axes>"
      ]
     },
     "metadata": {
      "needs_background": "light"
     },
     "output_type": "display_data"
    },
    {
     "name": "stdout",
     "output_type": "stream",
     "text": [
      "Columns: Heating\n",
      "Unique values: 6\n"
     ]
    },
    {
     "data": {
      "image/png": "[encoded data removed]",
      "text/plain": [
       "<Figure size 432x288 with 1 Axes>"
      ]
     },
     "metadata": {
      "needs_background": "light"
     },
     "output_type": "display_data"
    },
    {
     "name": "stdout",
     "output_type": "stream",
     "text": [
      "Columns: CentralAir\n",
      "Unique values: 2\n"
     ]
    },
    {
     "data": {
      "image/png": "[encoded data removed]",
      "text/plain": [
       "<Figure size 432x288 with 1 Axes>"
      ]
     },
     "metadata": {
      "needs_background": "light"
     },
     "output_type": "display_data"
    }
   ],
   "source": [
    "for column in X_train_cat:\n",
    "    print(f'Columns: {column}')\n",
    "    print(f'Unique values: {len(X_train_cat[column].unique())}')\n",
    "    X_train_cat[column].value_counts().plot.bar()\n",
    "    plt.show()"
   ]
  },
  {
   "cell_type": "markdown",
   "metadata": {},
   "source": [
    "It looks Utilities column has only one value. It means the column is useless. This case is an example of variance = 0. Similarly we can assume that if any column has very low variance then it contains less information and we can also dismiss such column. To select columns we can use special trasformation: VarianceThreshold. It removes columns which has lower variance that provided threshold (variance = 0 by default). We can assume threshold = 0.05. However we should start from OneHotEncoder transformation as VarianceThreshold doesn't work for string values."
   ]
  },
  {
   "cell_type": "code",
   "execution_count": 53,
   "metadata": {},
   "outputs": [
    {
     "data": {
      "text/plain": [
       "array([[0., 1., 1., ..., 0., 1., 0.],\n",
       "       [0., 1., 1., ..., 0., 0., 1.],\n",
       "       [0., 1., 1., ..., 0., 0., 1.],\n",
       "       ...,\n",
       "       [0., 1., 1., ..., 0., 0., 1.],\n",
       "       [0., 1., 1., ..., 0., 0., 1.],\n",
       "       [0., 1., 1., ..., 0., 0., 1.]])"
      ]
     },
     "execution_count": 53,
     "metadata": {},
     "output_type": "execute_result"
    }
   ],
   "source": [
    "one = OneHotEncoder(sparse=False, handle_unknown='ignore')\n",
    "X_train_cat_one = one.fit_transform(X_train_cat)\n",
    "X_train_cat_one"
   ]
  },
  {
   "cell_type": "markdown",
   "metadata": {},
   "source": [
    "Show feature names:"
   ]
  },
  {
   "cell_type": "code",
   "execution_count": 54,
   "metadata": {},
   "outputs": [
    {
     "data": {
      "text/plain": [
       "array(['Street_Grvl', 'Street_Pave', 'Utilities_AllPub', 'Heating_Floor',\n",
       "       'Heating_GasA', 'Heating_GasW', 'Heating_Grav', 'Heating_OthW',\n",
       "       'Heating_Wall', 'CentralAir_N', 'CentralAir_Y'], dtype=object)"
      ]
     },
     "execution_count": 54,
     "metadata": {},
     "output_type": "execute_result"
    }
   ],
   "source": [
    "one.get_feature_names(['Street', 'Utilities', 'Heating', 'CentralAir'])"
   ]
  },
  {
   "cell_type": "markdown",
   "metadata": {},
   "source": [
    "Convert the OneHotEncoder transformation result to DataFrame:"
   ]
  },
  {
   "cell_type": "code",
   "execution_count": 55,
   "metadata": {},
   "outputs": [
    {
     "data": {
      "text/html": [
       "<div>\n",
       "<style scoped>\n",
       "    .dataframe tbody tr th:only-of-type {\n",
       "        vertical-align: middle;\n",
       "    }\n",
       "\n",
       "    .dataframe tbody tr th {\n",
       "        vertical-align: top;\n",
       "    }\n",
       "\n",
       "    .dataframe thead th {\n",
       "        text-align: right;\n",
       "    }\n",
       "</style>\n",
       "<table border=\"1\" class=\"dataframe\">\n",
       "  <thead>\n",
       "    <tr style=\"text-align: right;\">\n",
       "      <th></th>\n",
       "      <th>Street_Grvl</th>\n",
       "      <th>Street_Pave</th>\n",
       "      <th>Utilities_AllPub</th>\n",
       "      <th>Heating_Floor</th>\n",
       "      <th>Heating_GasA</th>\n",
       "      <th>Heating_GasW</th>\n",
       "      <th>Heating_Grav</th>\n",
       "      <th>Heating_OthW</th>\n",
       "      <th>Heating_Wall</th>\n",
       "      <th>CentralAir_N</th>\n",
       "      <th>CentralAir_Y</th>\n",
       "    </tr>\n",
       "  </thead>\n",
       "  <tbody>\n",
       "    <tr>\n",
       "      <th>0.0</th>\n",
       "      <td>0.0</td>\n",
       "      <td>1.0</td>\n",
       "      <td>1.0</td>\n",
       "      <td>0.0</td>\n",
       "      <td>1.0</td>\n",
       "      <td>0.0</td>\n",
       "      <td>0.0</td>\n",
       "      <td>0.0</td>\n",
       "      <td>0.0</td>\n",
       "      <td>1.0</td>\n",
       "      <td>0.0</td>\n",
       "    </tr>\n",
       "    <tr>\n",
       "      <th>0.0</th>\n",
       "      <td>0.0</td>\n",
       "      <td>1.0</td>\n",
       "      <td>1.0</td>\n",
       "      <td>0.0</td>\n",
       "      <td>0.0</td>\n",
       "      <td>1.0</td>\n",
       "      <td>0.0</td>\n",
       "      <td>0.0</td>\n",
       "      <td>0.0</td>\n",
       "      <td>0.0</td>\n",
       "      <td>1.0</td>\n",
       "    </tr>\n",
       "    <tr>\n",
       "      <th>0.0</th>\n",
       "      <td>0.0</td>\n",
       "      <td>1.0</td>\n",
       "      <td>1.0</td>\n",
       "      <td>0.0</td>\n",
       "      <td>1.0</td>\n",
       "      <td>0.0</td>\n",
       "      <td>0.0</td>\n",
       "      <td>0.0</td>\n",
       "      <td>0.0</td>\n",
       "      <td>0.0</td>\n",
       "      <td>1.0</td>\n",
       "    </tr>\n",
       "    <tr>\n",
       "      <th>0.0</th>\n",
       "      <td>0.0</td>\n",
       "      <td>1.0</td>\n",
       "      <td>1.0</td>\n",
       "      <td>0.0</td>\n",
       "      <td>0.0</td>\n",
       "      <td>1.0</td>\n",
       "      <td>0.0</td>\n",
       "      <td>0.0</td>\n",
       "      <td>0.0</td>\n",
       "      <td>0.0</td>\n",
       "      <td>1.0</td>\n",
       "    </tr>\n",
       "    <tr>\n",
       "      <th>0.0</th>\n",
       "      <td>0.0</td>\n",
       "      <td>1.0</td>\n",
       "      <td>1.0</td>\n",
       "      <td>0.0</td>\n",
       "      <td>1.0</td>\n",
       "      <td>0.0</td>\n",
       "      <td>0.0</td>\n",
       "      <td>0.0</td>\n",
       "      <td>0.0</td>\n",
       "      <td>0.0</td>\n",
       "      <td>1.0</td>\n",
       "    </tr>\n",
       "    <tr>\n",
       "      <th>...</th>\n",
       "      <td>...</td>\n",
       "      <td>...</td>\n",
       "      <td>...</td>\n",
       "      <td>...</td>\n",
       "      <td>...</td>\n",
       "      <td>...</td>\n",
       "      <td>...</td>\n",
       "      <td>...</td>\n",
       "      <td>...</td>\n",
       "      <td>...</td>\n",
       "      <td>...</td>\n",
       "    </tr>\n",
       "    <tr>\n",
       "      <th>0.0</th>\n",
       "      <td>0.0</td>\n",
       "      <td>1.0</td>\n",
       "      <td>1.0</td>\n",
       "      <td>0.0</td>\n",
       "      <td>1.0</td>\n",
       "      <td>0.0</td>\n",
       "      <td>0.0</td>\n",
       "      <td>0.0</td>\n",
       "      <td>0.0</td>\n",
       "      <td>0.0</td>\n",
       "      <td>1.0</td>\n",
       "    </tr>\n",
       "    <tr>\n",
       "      <th>0.0</th>\n",
       "      <td>0.0</td>\n",
       "      <td>1.0</td>\n",
       "      <td>1.0</td>\n",
       "      <td>0.0</td>\n",
       "      <td>1.0</td>\n",
       "      <td>0.0</td>\n",
       "      <td>0.0</td>\n",
       "      <td>0.0</td>\n",
       "      <td>0.0</td>\n",
       "      <td>0.0</td>\n",
       "      <td>1.0</td>\n",
       "    </tr>\n",
       "    <tr>\n",
       "      <th>0.0</th>\n",
       "      <td>0.0</td>\n",
       "      <td>1.0</td>\n",
       "      <td>1.0</td>\n",
       "      <td>0.0</td>\n",
       "      <td>1.0</td>\n",
       "      <td>0.0</td>\n",
       "      <td>0.0</td>\n",
       "      <td>0.0</td>\n",
       "      <td>0.0</td>\n",
       "      <td>0.0</td>\n",
       "      <td>1.0</td>\n",
       "    </tr>\n",
       "    <tr>\n",
       "      <th>0.0</th>\n",
       "      <td>0.0</td>\n",
       "      <td>1.0</td>\n",
       "      <td>1.0</td>\n",
       "      <td>0.0</td>\n",
       "      <td>1.0</td>\n",
       "      <td>0.0</td>\n",
       "      <td>0.0</td>\n",
       "      <td>0.0</td>\n",
       "      <td>0.0</td>\n",
       "      <td>0.0</td>\n",
       "      <td>1.0</td>\n",
       "    </tr>\n",
       "    <tr>\n",
       "      <th>0.0</th>\n",
       "      <td>0.0</td>\n",
       "      <td>1.0</td>\n",
       "      <td>1.0</td>\n",
       "      <td>0.0</td>\n",
       "      <td>1.0</td>\n",
       "      <td>0.0</td>\n",
       "      <td>0.0</td>\n",
       "      <td>0.0</td>\n",
       "      <td>0.0</td>\n",
       "      <td>0.0</td>\n",
       "      <td>1.0</td>\n",
       "    </tr>\n",
       "  </tbody>\n",
       "</table>\n",
       "<p>1168 rows × 11 columns</p>\n",
       "</div>"
      ],
      "text/plain": [
       "     Street_Grvl  Street_Pave  Utilities_AllPub  Heating_Floor  Heating_GasA  \\\n",
       "0.0          0.0          1.0               1.0            0.0           1.0   \n",
       "0.0          0.0          1.0               1.0            0.0           0.0   \n",
       "0.0          0.0          1.0               1.0            0.0           1.0   \n",
       "0.0          0.0          1.0               1.0            0.0           0.0   \n",
       "0.0          0.0          1.0               1.0            0.0           1.0   \n",
       "..           ...          ...               ...            ...           ...   \n",
       "0.0          0.0          1.0               1.0            0.0           1.0   \n",
       "0.0          0.0          1.0               1.0            0.0           1.0   \n",
       "0.0          0.0          1.0               1.0            0.0           1.0   \n",
       "0.0          0.0          1.0               1.0            0.0           1.0   \n",
       "0.0          0.0          1.0               1.0            0.0           1.0   \n",
       "\n",
       "     Heating_GasW  Heating_Grav  Heating_OthW  Heating_Wall  CentralAir_N  \\\n",
       "0.0           0.0           0.0           0.0           0.0           1.0   \n",
       "0.0           1.0           0.0           0.0           0.0           0.0   \n",
       "0.0           0.0           0.0           0.0           0.0           0.0   \n",
       "0.0           1.0           0.0           0.0           0.0           0.0   \n",
       "0.0           0.0           0.0           0.0           0.0           0.0   \n",
       "..            ...           ...           ...           ...           ...   \n",
       "0.0           0.0           0.0           0.0           0.0           0.0   \n",
       "0.0           0.0           0.0           0.0           0.0           0.0   \n",
       "0.0           0.0           0.0           0.0           0.0           0.0   \n",
       "0.0           0.0           0.0           0.0           0.0           0.0   \n",
       "0.0           0.0           0.0           0.0           0.0           0.0   \n",
       "\n",
       "     CentralAir_Y  \n",
       "0.0           0.0  \n",
       "0.0           1.0  \n",
       "0.0           1.0  \n",
       "0.0           1.0  \n",
       "0.0           1.0  \n",
       "..            ...  \n",
       "0.0           1.0  \n",
       "0.0           1.0  \n",
       "0.0           1.0  \n",
       "0.0           1.0  \n",
       "0.0           1.0  \n",
       "\n",
       "[1168 rows x 11 columns]"
      ]
     },
     "execution_count": 55,
     "metadata": {},
     "output_type": "execute_result"
    }
   ],
   "source": [
    "X_train_cat_one_df = pd.DataFrame(data=X_train_cat_one[:,:],\n",
    "             index=X_train_cat_one[:,0],\n",
    "             columns=X_train_cat_one[0,:]) \n",
    "X_train_cat_one_df.columns = one.get_feature_names(['Street', 'Utilities', 'Heating', 'CentralAir'])\n",
    "X_train_cat_one_df"
   ]
  },
  {
   "cell_type": "markdown",
   "metadata": {},
   "source": [
    "Use VarianceThreshold selector now:"
   ]
  },
  {
   "cell_type": "code",
   "execution_count": 56,
   "metadata": {},
   "outputs": [
    {
     "data": {
      "text/html": [
       "<div>\n",
       "<style scoped>\n",
       "    .dataframe tbody tr th:only-of-type {\n",
       "        vertical-align: middle;\n",
       "    }\n",
       "\n",
       "    .dataframe tbody tr th {\n",
       "        vertical-align: top;\n",
       "    }\n",
       "\n",
       "    .dataframe thead th {\n",
       "        text-align: right;\n",
       "    }\n",
       "</style>\n",
       "<table border=\"1\" class=\"dataframe\">\n",
       "  <thead>\n",
       "    <tr style=\"text-align: right;\">\n",
       "      <th></th>\n",
       "      <th>CentralAir_N</th>\n",
       "      <th>CentralAir_Y</th>\n",
       "    </tr>\n",
       "  </thead>\n",
       "  <tbody>\n",
       "    <tr>\n",
       "      <th>0.0</th>\n",
       "      <td>1.0</td>\n",
       "      <td>0.0</td>\n",
       "    </tr>\n",
       "    <tr>\n",
       "      <th>0.0</th>\n",
       "      <td>0.0</td>\n",
       "      <td>1.0</td>\n",
       "    </tr>\n",
       "    <tr>\n",
       "      <th>0.0</th>\n",
       "      <td>0.0</td>\n",
       "      <td>1.0</td>\n",
       "    </tr>\n",
       "    <tr>\n",
       "      <th>0.0</th>\n",
       "      <td>0.0</td>\n",
       "      <td>1.0</td>\n",
       "    </tr>\n",
       "    <tr>\n",
       "      <th>0.0</th>\n",
       "      <td>0.0</td>\n",
       "      <td>1.0</td>\n",
       "    </tr>\n",
       "    <tr>\n",
       "      <th>...</th>\n",
       "      <td>...</td>\n",
       "      <td>...</td>\n",
       "    </tr>\n",
       "    <tr>\n",
       "      <th>0.0</th>\n",
       "      <td>0.0</td>\n",
       "      <td>1.0</td>\n",
       "    </tr>\n",
       "    <tr>\n",
       "      <th>0.0</th>\n",
       "      <td>0.0</td>\n",
       "      <td>1.0</td>\n",
       "    </tr>\n",
       "    <tr>\n",
       "      <th>0.0</th>\n",
       "      <td>0.0</td>\n",
       "      <td>1.0</td>\n",
       "    </tr>\n",
       "    <tr>\n",
       "      <th>0.0</th>\n",
       "      <td>0.0</td>\n",
       "      <td>1.0</td>\n",
       "    </tr>\n",
       "    <tr>\n",
       "      <th>0.0</th>\n",
       "      <td>0.0</td>\n",
       "      <td>1.0</td>\n",
       "    </tr>\n",
       "  </tbody>\n",
       "</table>\n",
       "<p>1168 rows × 2 columns</p>\n",
       "</div>"
      ],
      "text/plain": [
       "     CentralAir_N  CentralAir_Y\n",
       "0.0           1.0           0.0\n",
       "0.0           0.0           1.0\n",
       "0.0           0.0           1.0\n",
       "0.0           0.0           1.0\n",
       "0.0           0.0           1.0\n",
       "..            ...           ...\n",
       "0.0           0.0           1.0\n",
       "0.0           0.0           1.0\n",
       "0.0           0.0           1.0\n",
       "0.0           0.0           1.0\n",
       "0.0           0.0           1.0\n",
       "\n",
       "[1168 rows x 2 columns]"
      ]
     },
     "execution_count": 56,
     "metadata": {},
     "output_type": "execute_result"
    }
   ],
   "source": [
    "thresholder = VarianceThreshold(threshold=.05)\n",
    "X_train_cat_high_variance = thresholder.fit(X_train_cat_one_df)\n",
    "X_train_cat_high_variance_df = X_train_cat_one_df.loc[:, X_train_cat_high_variance.get_support()]\n",
    "X_train_cat_high_variance_df"
   ]
  },
  {
   "cell_type": "markdown",
   "metadata": {},
   "source": [
    "We can also confirm VarianceThreshold selector process looking at variance of every column:"
   ]
  },
  {
   "cell_type": "code",
   "execution_count": 57,
   "metadata": {},
   "outputs": [
    {
     "data": {
      "text/plain": [
       "Street_Grvl         0.005115\n",
       "Street_Pave         0.005115\n",
       "Utilities_AllPub    0.000000\n",
       "Heating_Floor       0.000856\n",
       "Heating_GasA        0.019321\n",
       "Heating_GasW        0.011853\n",
       "Heating_Grav        0.003416\n",
       "Heating_OthW        0.001711\n",
       "Heating_Wall        0.001711\n",
       "CentralAir_N        0.055633\n",
       "CentralAir_Y        0.055633\n",
       "dtype: float64"
      ]
     },
     "execution_count": 57,
     "metadata": {},
     "output_type": "execute_result"
    }
   ],
   "source": [
    "X_train_cat_one_df.var()"
   ]
  },
  {
   "cell_type": "code",
   "execution_count": 58,
   "metadata": {},
   "outputs": [
    {
     "data": {
      "text/plain": [
       "CentralAir_N    0.055633\n",
       "CentralAir_Y    0.055633\n",
       "dtype: float64"
      ]
     },
     "execution_count": 58,
     "metadata": {},
     "output_type": "execute_result"
    }
   ],
   "source": [
    "X_train_cat_high_variance_df.var()"
   ]
  },
  {
   "cell_type": "markdown",
   "metadata": {},
   "source": [
    "We can clearly see that only columns: CentralAir_N and CentralAir_Y have variance greater than 0.05. It means that for learning models we will use only original column: CentrailAir."
   ]
  },
  {
   "cell_type": "markdown",
   "metadata": {},
   "source": [
    "### Numeric data"
   ]
  },
  {
   "cell_type": "markdown",
   "metadata": {},
   "source": [
    "For numeric data we will use SimpleImputer to impute missing data (replaces missing values using mean by default) for LotFrontage column and StandardScaler to standarize data to mean = 0, variance = 1."
   ]
  },
  {
   "cell_type": "markdown",
   "metadata": {},
   "source": [
    "### Transform and merge categorical and numeric data into one pipeline"
   ]
  },
  {
   "cell_type": "markdown",
   "metadata": {},
   "source": [
    "Let's create two Trasformer classes which extend BaseEstimator and TransformerMixin - they will allow us to select specific columns by putting set of columns and select specific type of columns by putting type of column:"
   ]
  },
  {
   "cell_type": "code",
   "execution_count": 59,
   "metadata": {},
   "outputs": [],
   "source": [
    "class SelectColumnsTransformer(BaseEstimator, TransformerMixin):\n",
    "    def __init__( self, columns_to_select: list):\n",
    "        self.columns_to_select = columns_to_select\n",
    "    \n",
    "    def fit( self, X, y = None ):\n",
    "        return self \n",
    "    \n",
    "    def transform( self, X, y = None ):\n",
    "        return X[self.columns_to_select]"
   ]
  },
  {
   "cell_type": "code",
   "execution_count": 60,
   "metadata": {},
   "outputs": [],
   "source": [
    "class SelectColumnsByTypeTransformer(BaseEstimator, TransformerMixin):\n",
    "    def __init__( self, type_to_select):\n",
    "        self.type_to_select = type_to_select\n",
    "    \n",
    "    def fit( self, X, y = None ):\n",
    "        return self \n",
    "    \n",
    "    def transform( self, X, y = None ):\n",
    "        if self.type_to_select == 'numeric':\n",
    "            return X.select_dtypes(include=np.number)\n",
    "        else:\n",
    "            return X.select_dtypes(exclude=np.number)"
   ]
  },
  {
   "cell_type": "markdown",
   "metadata": {},
   "source": [
    "Now let's use all above analyses which we made after splitting data into train and test data. Let's create also categorical and numeric pipelines and combine them using FeatureUnion:"
   ]
  },
  {
   "cell_type": "code",
   "execution_count": 63,
   "metadata": {},
   "outputs": [
    {
     "data": {
      "text/plain": [
       "FeatureUnion(transformer_list=[('categorical_pipeline',\n",
       "                                Pipeline(steps=[('selector',\n",
       "                                                 SelectColumnsTransformer(columns_to_select=['CentralAir'])),\n",
       "                                                ('one',\n",
       "                                                 OneHotEncoder(handle_unknown='ignore',\n",
       "                                                               sparse=False))])),\n",
       "                               ('numerical_pipeline',\n",
       "                                Pipeline(steps=[('selector',\n",
       "                                                 SelectColumnsByTypeTransformer(type_to_select='numeric')),\n",
       "                                                ('imputer', SimpleImputer()),\n",
       "                                                ('scaler',\n",
       "                                                 StandardScaler())]))])"
      ]
     },
     "execution_count": 63,
     "metadata": {},
     "output_type": "execute_result"
    }
   ],
   "source": [
    "cat_pipeline = Pipeline([\n",
    "    (\"selector\", SelectColumnsTransformer(['CentralAir'])), \n",
    "    (\"one\", OneHotEncoder(sparse=False, handle_unknown='ignore'))\n",
    "])\n",
    "\n",
    "num_pipeline = Pipeline([\n",
    "    (\"selector\", SelectColumnsByTypeTransformer('numeric')),\n",
    "    (\"imputer\", SimpleImputer()),\n",
    "    (\"scaler\", StandardScaler())\n",
    "])\n",
    "\n",
    "transformer_list = [ ('categorical_pipeline', cat_pipeline), \n",
    "                     ('numerical_pipeline', num_pipeline ) \n",
    "                   ]\n",
    "\n",
    "combined_pipeline = FeatureUnion(transformer_list=transformer_list)\n",
    "\n",
    "combined_pipeline"
   ]
  },
  {
   "cell_type": "markdown",
   "metadata": {},
   "source": [
    "### Regression models"
   ]
  },
  {
   "cell_type": "markdown",
   "metadata": {},
   "source": [
    "LinearRegression:"
   ]
  },
  {
   "cell_type": "code",
   "execution_count": 64,
   "metadata": {},
   "outputs": [
    {
     "data": {
      "text/plain": [
       "Pipeline(steps=[('combined_pipeline',\n",
       "                 FeatureUnion(transformer_list=[('categorical_pipeline',\n",
       "                                                 Pipeline(steps=[('selector',\n",
       "                                                                  SelectColumnsTransformer(columns_to_select=['CentralAir'])),\n",
       "                                                                 ('one',\n",
       "                                                                  OneHotEncoder(handle_unknown='ignore',\n",
       "                                                                                sparse=False))])),\n",
       "                                                ('numerical_pipeline',\n",
       "                                                 Pipeline(steps=[('selector',\n",
       "                                                                  SelectColumnsByTypeTransformer(type_to_select='numeric')),\n",
       "                                                                 ('imputer',\n",
       "                                                                  SimpleImputer()),\n",
       "                                                                 ('scaler',\n",
       "                                                                  StandardScaler())]))])),\n",
       "                ('LR', LinearRegression())])"
      ]
     },
     "execution_count": 64,
     "metadata": {},
     "output_type": "execute_result"
    }
   ],
   "source": [
    "lr_pipeline = Pipeline(steps = [\n",
    "    ('combined_pipeline', combined_pipeline), \n",
    "    ('LR', LinearRegression())\n",
    "])\n",
    "\n",
    "lr_pipeline.fit(X_train, y_train)"
   ]
  },
  {
   "cell_type": "markdown",
   "metadata": {},
   "source": [
    "Scoring on the scaled test set"
   ]
  },
  {
   "cell_type": "code",
   "execution_count": 65,
   "metadata": {},
   "outputs": [],
   "source": [
    "y_pred_lr = lr_pipeline.predict(X_test)"
   ]
  },
  {
   "cell_type": "code",
   "execution_count": 66,
   "metadata": {
    "scrolled": true
   },
   "outputs": [
    {
     "name": "stdout",
     "output_type": "stream",
     "text": [
      "R2: 0.78\n",
      "MAE: 22161.44\n",
      "MSE: 1406097223.59\n"
     ]
    }
   ],
   "source": [
    "R2_lr = metrics.r2_score( y_pred = y_pred_lr ,y_true = y_test)\n",
    "MAE_lr = metrics.mean_absolute_error( y_pred = y_pred_lr ,y_true = y_test)\n",
    "MSE_lr = metrics.mean_squared_error( y_pred = y_pred_lr ,y_true = y_test)\n",
    "print(\"R2: {:.2f}\".format(R2_lr) )\n",
    "print(\"MAE: {:.2f}\".format(MAE_lr) )\n",
    "print(\"MSE: {:.2f}\".format(MSE_lr) )"
   ]
  },
  {
   "cell_type": "markdown",
   "metadata": {},
   "source": [
    "SVR:"
   ]
  },
  {
   "cell_type": "code",
   "execution_count": 70,
   "metadata": {},
   "outputs": [],
   "source": [
    "svr_pipe = Pipeline([\n",
    "        ('combined_pipeline', combined_pipeline), \n",
    "        ('SVR', SVR(kernel='rbf', gamma=0.1))    \n",
    "    ])\n",
    "\n",
    "svr_param_grid = {\n",
    "            \"SVR__C\": [100000, 1000000],\n",
    "            \"SVR__gamma\": [0.001, 0.01, 0.1]\n",
    "             }"
   ]
  },
  {
   "cell_type": "markdown",
   "metadata": {},
   "source": [
    "Let's define kfold for cross validation for GridSearch:"
   ]
  },
  {
   "cell_type": "code",
   "execution_count": 71,
   "metadata": {},
   "outputs": [],
   "source": [
    "kfold = model_selection.KFold(n_splits=5, shuffle=True, random_state=12)"
   ]
  },
  {
   "cell_type": "markdown",
   "metadata": {},
   "source": [
    "Let's run GridSearch"
   ]
  },
  {
   "cell_type": "code",
   "execution_count": 72,
   "metadata": {},
   "outputs": [
    {
     "data": {
      "text/plain": [
       "GridSearchCV(cv=KFold(n_splits=5, random_state=12, shuffle=True),\n",
       "             estimator=Pipeline(steps=[('combined_pipeline',\n",
       "                                        FeatureUnion(transformer_list=[('categorical_pipeline',\n",
       "                                                                        Pipeline(steps=[('selector',\n",
       "                                                                                         SelectColumnsTransformer(columns_to_select=['CentralAir'])),\n",
       "                                                                                        ('one',\n",
       "                                                                                         OneHotEncoder(handle_unknown='ignore',\n",
       "                                                                                                       sparse=False))])),\n",
       "                                                                       ('numerical_pipeline',\n",
       "                                                                        Pipeline(steps=[('selector',\n",
       "                                                                                         SelectColumnsByTypeTransformer(type_to_select='numeric')),\n",
       "                                                                                        ('imputer',\n",
       "                                                                                         SimpleImputer()),\n",
       "                                                                                        ('scaler',\n",
       "                                                                                         StandardScaler())]))])),\n",
       "                                       ('SVR', SVR(gamma=0.1))]),\n",
       "             param_grid={'SVR__C': [100000, 1000000],\n",
       "                         'SVR__gamma': [0.001, 0.01, 0.1]})"
      ]
     },
     "execution_count": 72,
     "metadata": {},
     "output_type": "execute_result"
    }
   ],
   "source": [
    "svr_grid = GridSearchCV(svr_pipe, param_grid=svr_param_grid, cv=kfold)\n",
    "svr_grid.fit(X_train, y_train)"
   ]
  },
  {
   "cell_type": "code",
   "execution_count": 73,
   "metadata": {},
   "outputs": [],
   "source": [
    "y_pred_svr = svr_grid.predict(X_test)"
   ]
  },
  {
   "cell_type": "code",
   "execution_count": 74,
   "metadata": {},
   "outputs": [
    {
     "name": "stdout",
     "output_type": "stream",
     "text": [
      "Best parameters:  {'SVR__C': 1000000, 'SVR__gamma': 0.01}\n",
      "R2: 0.79\n",
      "MAE: 18297.53\n",
      "MSE: 1317812961.47\n"
     ]
    }
   ],
   "source": [
    "print(\"Best parameters: \", svr_grid.best_params_)\n",
    "R2_svr = metrics.r2_score( y_pred = y_pred_svr ,y_true = y_test)\n",
    "MAE_svr = metrics.mean_absolute_error( y_pred = y_pred_svr ,y_true = y_test)\n",
    "MSE_svr = metrics.mean_squared_error( y_pred = y_pred_svr ,y_true = y_test)\n",
    "print(\"R2: {:.2f}\".format(R2_svr) )\n",
    "print(\"MAE: {:.2f}\".format(MAE_svr) )\n",
    "print(\"MSE: {:.2f}\".format(MSE_svr) )"
   ]
  },
  {
   "cell_type": "markdown",
   "metadata": {},
   "source": [
    "RandomForest:"
   ]
  },
  {
   "cell_type": "code",
   "execution_count": 75,
   "metadata": {},
   "outputs": [],
   "source": [
    "rf_pipe = Pipeline([\n",
    "        ('combined_pipeline', combined_pipeline),\n",
    "        ('RF', RandomForestRegressor())    \n",
    "    ])\n",
    "\n",
    "rf_param_grid = {\n",
    "            'RF__n_estimators': [800, 900, 1000],\n",
    "            'RF__max_depth':  [80, 90, 100,],\n",
    "            'RF__max_features': ['log2','sqrt','auto'],\n",
    "            'RF__max_leaf_nodes':  [200, 300]\n",
    "             }"
   ]
  },
  {
   "cell_type": "code",
   "execution_count": 76,
   "metadata": {},
   "outputs": [
    {
     "data": {
      "text/plain": [
       "GridSearchCV(cv=KFold(n_splits=5, random_state=12, shuffle=True),\n",
       "             estimator=Pipeline(steps=[('combined_pipeline',\n",
       "                                        FeatureUnion(transformer_list=[('categorical_pipeline',\n",
       "                                                                        Pipeline(steps=[('selector',\n",
       "                                                                                         SelectColumnsTransformer(columns_to_select=['CentralAir'])),\n",
       "                                                                                        ('one',\n",
       "                                                                                         OneHotEncoder(handle_unknown='ignore',\n",
       "                                                                                                       sparse=False))])),\n",
       "                                                                       ('numerical_pipeline',\n",
       "                                                                        Pipeline(steps=[('selector',\n",
       "                                                                                         SelectColumnsByTypeTransformer(type_to_select='numeric')),\n",
       "                                                                                        ('imputer',\n",
       "                                                                                         SimpleImputer()),\n",
       "                                                                                        ('scaler',\n",
       "                                                                                         StandardScaler())]))])),\n",
       "                                       ('RF', RandomForestRegressor())]),\n",
       "             param_grid={'RF__max_depth': [80, 90, 100],\n",
       "                         'RF__max_features': ['log2', 'sqrt', 'auto'],\n",
       "                         'RF__max_leaf_nodes': [200, 300],\n",
       "                         'RF__n_estimators': [800, 900, 1000]})"
      ]
     },
     "execution_count": 76,
     "metadata": {},
     "output_type": "execute_result"
    }
   ],
   "source": [
    "rf_grid = GridSearchCV(rf_pipe, param_grid=rf_param_grid, cv=kfold)\n",
    "rf_grid.fit(X_train, y_train)"
   ]
  },
  {
   "cell_type": "code",
   "execution_count": 77,
   "metadata": {},
   "outputs": [],
   "source": [
    "y_pred_rf = rf_grid.predict(X_test)"
   ]
  },
  {
   "cell_type": "code",
   "execution_count": 78,
   "metadata": {},
   "outputs": [
    {
     "name": "stdout",
     "output_type": "stream",
     "text": [
      "Best parameters:  {'RF__max_depth': 80, 'RF__max_features': 'sqrt', 'RF__max_leaf_nodes': 300, 'RF__n_estimators': 900}\n",
      "R2: 0.82\n",
      "MAE: 17387.38\n",
      "MSE: 1151034173.93\n"
     ]
    }
   ],
   "source": [
    "print(\"Best parameters: \", rf_grid.best_params_)\n",
    "R2_rf = metrics.r2_score( y_pred = y_pred_rf ,y_true = y_test)\n",
    "MAE_rf = metrics.mean_absolute_error( y_pred = y_pred_rf ,y_true = y_test)\n",
    "MSE_rf = metrics.mean_squared_error( y_pred = y_pred_rf ,y_true = y_test)\n",
    "print(\"R2: {:.2f}\".format(R2_rf) )\n",
    "print(\"MAE: {:.2f}\".format(MAE_rf) )\n",
    "print(\"MSE: {:.2f}\".format(MSE_rf) )"
   ]
  },
  {
   "cell_type": "markdown",
   "metadata": {},
   "source": [
    "GradientBoosting:"
   ]
  },
  {
   "cell_type": "code",
   "execution_count": 79,
   "metadata": {},
   "outputs": [],
   "source": [
    "gbr_pipe = Pipeline([\n",
    "        ('combined_pipeline', combined_pipeline),\n",
    "        ('GBR', GradientBoostingRegressor())    \n",
    "    ])\n",
    "\n",
    "gbr_param_grid = {\n",
    "              'GBR__learning_rate': [0.02,0.03,0.04],\n",
    "              'GBR__subsample'    : [0.7,0.5,0.4],\n",
    "              'GBR__n_estimators' : [400,500,600],\n",
    "              'GBR__max_depth'    : [8,10]\n",
    "             }"
   ]
  },
  {
   "cell_type": "code",
   "execution_count": 80,
   "metadata": {},
   "outputs": [
    {
     "data": {
      "text/plain": [
       "GridSearchCV(cv=KFold(n_splits=5, random_state=12, shuffle=True),\n",
       "             estimator=Pipeline(steps=[('combined_pipeline',\n",
       "                                        FeatureUnion(transformer_list=[('categorical_pipeline',\n",
       "                                                                        Pipeline(steps=[('selector',\n",
       "                                                                                         SelectColumnsTransformer(columns_to_select=['CentralAir'])),\n",
       "                                                                                        ('one',\n",
       "                                                                                         OneHotEncoder(handle_unknown='ignore',\n",
       "                                                                                                       sparse=False))])),\n",
       "                                                                       ('numerical_pipeline',\n",
       "                                                                        Pipeline(steps=[('selector',\n",
       "                                                                                         SelectColumnsByTypeTransformer(type_to_select='numeric')),\n",
       "                                                                                        ('imputer',\n",
       "                                                                                         SimpleImputer()),\n",
       "                                                                                        ('scaler',\n",
       "                                                                                         StandardScaler())]))])),\n",
       "                                       ('GBR', GradientBoostingRegressor())]),\n",
       "             param_grid={'GBR__learning_rate': [0.02, 0.03, 0.04],\n",
       "                         'GBR__max_depth': [8, 10],\n",
       "                         'GBR__n_estimators': [400, 500, 600],\n",
       "                         'GBR__subsample': [0.7, 0.5, 0.4]})"
      ]
     },
     "execution_count": 80,
     "metadata": {},
     "output_type": "execute_result"
    }
   ],
   "source": [
    "gbr_grid = GridSearchCV(gbr_pipe, param_grid=gbr_param_grid, cv=kfold)\n",
    "gbr_grid.fit(X_train, y_train)"
   ]
  },
  {
   "cell_type": "code",
   "execution_count": 81,
   "metadata": {},
   "outputs": [],
   "source": [
    "y_pred_gbr = gbr_grid.predict(X_test)"
   ]
  },
  {
   "cell_type": "code",
   "execution_count": 82,
   "metadata": {},
   "outputs": [
    {
     "name": "stdout",
     "output_type": "stream",
     "text": [
      "Best parameters:  {'GBR__learning_rate': 0.04, 'GBR__max_depth': 8, 'GBR__n_estimators': 600, 'GBR__subsample': 0.4}\n",
      "R2: 0.81\n",
      "MAE: 16852.01\n",
      "MSE: 1192877956.71\n"
     ]
    }
   ],
   "source": [
    "print(\"Best parameters: \", gbr_grid.best_params_)\n",
    "R2_gbr = metrics.r2_score( y_pred = y_pred_gbr ,y_true = y_test)\n",
    "MAE_gbr = metrics.mean_absolute_error( y_pred = y_pred_gbr ,y_true = y_test)\n",
    "MSE_gbr = metrics.mean_squared_error( y_pred = y_pred_gbr ,y_true = y_test)\n",
    "print(\"R2: {:.2f}\".format(R2_gbr) )\n",
    "print(\"MAE: {:.2f}\".format(MAE_gbr) )\n",
    "print(\"MSE: {:.2f}\".format(MSE_gbr) )"
   ]
  },
  {
   "cell_type": "code",
   "execution_count": 83,
   "metadata": {},
   "outputs": [],
   "source": [
    "lasso_pipe = Pipeline([\n",
    "        ('combined_pipeline', combined_pipeline), \n",
    "        ('Lasso', Lasso())    \n",
    "    ])\n",
    "\n",
    "lasso_param_grid = {\n",
    "              'Lasso__alpha': [100, 1000, 10000]\n",
    "             }"
   ]
  },
  {
   "cell_type": "code",
   "execution_count": 84,
   "metadata": {},
   "outputs": [
    {
     "data": {
      "text/plain": [
       "GridSearchCV(cv=KFold(n_splits=5, random_state=12, shuffle=True),\n",
       "             estimator=Pipeline(steps=[('combined_pipeline',\n",
       "                                        FeatureUnion(transformer_list=[('categorical_pipeline',\n",
       "                                                                        Pipeline(steps=[('selector',\n",
       "                                                                                         SelectColumnsTransformer(columns_to_select=['CentralAir'])),\n",
       "                                                                                        ('one',\n",
       "                                                                                         OneHotEncoder(handle_unknown='ignore',\n",
       "                                                                                                       sparse=False))])),\n",
       "                                                                       ('numerical_pipeline',\n",
       "                                                                        Pipeline(steps=[('selector',\n",
       "                                                                                         SelectColumnsByTypeTransformer(type_to_select='numeric')),\n",
       "                                                                                        ('imputer',\n",
       "                                                                                         SimpleImputer()),\n",
       "                                                                                        ('scaler',\n",
       "                                                                                         StandardScaler())]))])),\n",
       "                                       ('Lasso', Lasso())]),\n",
       "             param_grid={'Lasso__alpha': [100, 1000, 10000]})"
      ]
     },
     "execution_count": 84,
     "metadata": {},
     "output_type": "execute_result"
    }
   ],
   "source": [
    "lasso_grid = GridSearchCV(lasso_pipe, param_grid=lasso_param_grid, cv=kfold)\n",
    "lasso_grid.fit(X_train, y_train)"
   ]
  },
  {
   "cell_type": "code",
   "execution_count": 85,
   "metadata": {},
   "outputs": [],
   "source": [
    "y_pred_lasso = lasso_grid.predict(X_test)"
   ]
  },
  {
   "cell_type": "code",
   "execution_count": 86,
   "metadata": {},
   "outputs": [
    {
     "name": "stdout",
     "output_type": "stream",
     "text": [
      "Best parameters:  {'Lasso__alpha': 1000}\n",
      "R2: 0.78\n",
      "MAE: 21764.98\n",
      "MSE: 1380901181.41\n"
     ]
    }
   ],
   "source": [
    "print(\"Best parameters: \", lasso_grid.best_params_)\n",
    "R2_lasso = metrics.r2_score( y_pred = y_pred_lasso ,y_true = y_test)\n",
    "MAE_lasso = metrics.mean_absolute_error( y_pred = y_pred_lasso ,y_true = y_test)\n",
    "MSE_lasso = metrics.mean_squared_error( y_pred = y_pred_lasso ,y_true = y_test)\n",
    "print(\"R2: {:.2f}\".format(R2_lasso) )\n",
    "print(\"MAE: {:.2f}\".format(MAE_lasso) )\n",
    "print(\"MSE: {:.2f}\".format(MSE_lasso) )"
   ]
  },
  {
   "cell_type": "markdown",
   "metadata": {},
   "source": [
    "Let's show plots to visualise difference between true values and predicted values of SalePrice for every model:"
   ]
  },
  {
   "cell_type": "code",
   "execution_count": 87,
   "metadata": {},
   "outputs": [
    {
     "data": {
      "image/png": "[encoded data removed]",
      "text/plain": [
       "<Figure size 720x720 with 1 Axes>"
      ]
     },
     "metadata": {
      "needs_background": "light"
     },
     "output_type": "display_data"
    }
   ],
   "source": [
    "plt.figure(figsize=(10,10))\n",
    "plt.scatter(y_test, y_pred_lr, marker='.', color='g', label='LinearRegression')\n",
    "plt.scatter(y_test, y_pred_svr, marker='.', color='r', label='SVR')\n",
    "plt.scatter(y_test, y_pred_rf, marker='.', color='c', label='RandomForest')\n",
    "plt.scatter(y_test, y_pred_gbr, marker='.', color='m', label='GradientBoosting')\n",
    "plt.scatter(y_test, y_pred_lasso, marker='.', color='y', label='Lasso')\n",
    "plt.legend(loc=\"upper left\")\n",
    "\n",
    "plt.plot(y_test, y_test, 'b-')\n",
    "plt.xlabel('True Values', fontsize=15)\n",
    "plt.ylabel('Predictions', fontsize=15)\n",
    "plt.show()\n"
   ]
  },
  {
   "cell_type": "markdown",
   "metadata": {},
   "source": [
    "Let's add log scale:"
   ]
  },
  {
   "cell_type": "code",
   "execution_count": 88,
   "metadata": {},
   "outputs": [
    {
     "data": {
      "image/png": "[encoded data removed]",
      "text/plain": [
       "<Figure size 720x720 with 1 Axes>"
      ]
     },
     "metadata": {
      "needs_background": "light"
     },
     "output_type": "display_data"
    }
   ],
   "source": [
    "plt.figure(figsize=(10,10))\n",
    "plt.scatter(y_test, y_pred_lr, marker='.', color='g', label='LinearRegression')\n",
    "plt.scatter(y_test, y_pred_svr, marker='.', color='r', label='SVR')\n",
    "plt.scatter(y_test, y_pred_rf, marker='.', color='c', label='RandomForest')\n",
    "plt.scatter(y_test, y_pred_gbr, marker='.', color='m', label='GradientBoosting')\n",
    "plt.scatter(y_test, y_pred_lasso, marker='.', color='y', label='Lasso')\n",
    "plt.legend(loc=\"upper left\")\n",
    "\n",
    "plt.yscale('log')\n",
    "plt.xscale('log')\n",
    "\n",
    "plt.plot(y_test, y_test, 'b-')\n",
    "plt.xlabel('True Values', fontsize=15)\n",
    "plt.ylabel('Predictions', fontsize=15)\n",
    "plt.show()"
   ]
  },
  {
   "cell_type": "markdown",
   "metadata": {},
   "source": [
    "R2, MAE and MSE comparison:"
   ]
  },
  {
   "cell_type": "code",
   "execution_count": 89,
   "metadata": {},
   "outputs": [
    {
     "data": {
      "image/png": "[encoded data removed]",
      "text/plain": [
       "<Figure size 432x288 with 1 Axes>"
      ]
     },
     "metadata": {
      "needs_background": "light"
     },
     "output_type": "display_data"
    }
   ],
   "source": [
    "fig = plt.figure()\n",
    "ax = fig.add_axes([0,0,1,1])\n",
    "models = ['LinearRegression', 'SVR', 'RandomForest', 'GradientBoosting', 'Lasso']\n",
    "R2 = [R2_lr,R2_svr,R2_rf,R2_gbr,R2_lasso]\n",
    "ax.bar(models,R2,color=['g', 'r', 'c', 'm', 'y'])\n",
    "plt.title(\"R2\")\n",
    "plt.show()"
   ]
  },
  {
   "cell_type": "code",
   "execution_count": 90,
   "metadata": {},
   "outputs": [
    {
     "data": {
      "image/png": "[encoded data removed]",
      "text/plain": [
       "<Figure size 432x288 with 1 Axes>"
      ]
     },
     "metadata": {
      "needs_background": "light"
     },
     "output_type": "display_data"
    }
   ],
   "source": [
    "fig = plt.figure()\n",
    "ax = fig.add_axes([0,0,1,1])\n",
    "models = ['LinearRegression', 'SVR', 'RandomForest', 'GradientBoosting', 'Lasso']\n",
    "MAE = [MAE_lr,MAE_svr,MAE_rf,MAE_gbr,MAE_lasso]\n",
    "ax.bar(models,MAE,color=['g', 'r', 'c', 'm', 'y'])\n",
    "plt.title(\"MAE\")\n",
    "plt.show()"
   ]
  },
  {
   "cell_type": "code",
   "execution_count": 91,
   "metadata": {},
   "outputs": [
    {
     "data": {
      "image/png": "[encoded data removed]",
      "text/plain": [
       "<Figure size 432x288 with 1 Axes>"
      ]
     },
     "metadata": {
      "needs_background": "light"
     },
     "output_type": "display_data"
    }
   ],
   "source": [
    "fig = plt.figure()\n",
    "ax = fig.add_axes([0,0,1,1])\n",
    "models = ['LinearRegression', 'SVR', 'RandomForest', 'GradientBoosting', 'Lasso']\n",
    "MSE = [MSE_lr,MSE_svr,MSE_rf,MSE_gbr,MSE_lasso]\n",
    "ax.bar(models,MSE,color=['g', 'r', 'c', 'm', 'y'])\n",
    "plt.title(\"MSE\")\n",
    "plt.show()"
   ]
  },
  {
   "cell_type": "markdown",
   "metadata": {},
   "source": [
    "### Conclusions:"
   ]
  },
  {
   "cell_type": "markdown",
   "metadata": {},
   "source": [
    "As we can see the best R2 and MSE results comes from RandomForestRegressor. GradientBoosting is also quite good as it has the best MAE result. The best R2=0.82 is quite good but it can be much closer to 1.00. In true values versus predicted values plots we can also see some outliers (especially the most up - every model predicts so significant outlier). It means there is still possibility to bring to perfection our models or/and optimise features."
   ]
  },
  {
   "cell_type": "code",
   "execution_count": null,
   "metadata": {},
   "outputs": [],
   "source": []
  }
 ],
 "metadata": {
  "kernelspec": {
   "display_name": "Python 3",
   "language": "python",
   "name": "python3"
  },
  "language_info": {
   "codemirror_mode": {
    "name": "ipython",
    "version": 3
   },
   "file_extension": ".py",
   "mimetype": "text/x-python",
   "name": "python",
   "nbconvert_exporter": "python",
   "pygments_lexer": "ipython3",
   "version": "3.7.3"
  }
 },
 "nbformat": 4,
 "nbformat_minor": 2
}
